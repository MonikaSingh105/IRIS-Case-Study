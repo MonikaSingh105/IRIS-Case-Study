{
 "cells": [
  {
   "cell_type": "markdown",
   "id": "e661fd46",
   "metadata": {},
   "source": [
    "# IRIS Case Study"
   ]
  },
  {
   "cell_type": "markdown",
   "id": "c04c9d78",
   "metadata": {},
   "source": [
    "Dataset used in this study is a multivariate dataset which contain 50 observations for various features of 3 different species of Iris plant i.e. 'Iris-setosa', 'Iris-versicolor','Iris-virginica'. "
   ]
  },
  {
   "cell_type": "markdown",
   "id": "681a08c5",
   "metadata": {},
   "source": [
    "### Understanding the data"
   ]
  },
  {
   "cell_type": "code",
   "execution_count": 1,
   "id": "320cf6f5",
   "metadata": {},
   "outputs": [],
   "source": [
    "# Suppressing Warnings\n",
    "import warnings\n",
    "warnings.filterwarnings('ignore')"
   ]
  },
  {
   "cell_type": "code",
   "execution_count": 2,
   "id": "7985e095",
   "metadata": {},
   "outputs": [],
   "source": [
    "# Importing Pandas and NumPy\n",
    "import pandas as pd, numpy as np"
   ]
  },
  {
   "cell_type": "code",
   "execution_count": 3,
   "id": "54321751",
   "metadata": {},
   "outputs": [
    {
     "data": {
      "text/html": [
       "<div>\n",
       "<style scoped>\n",
       "    .dataframe tbody tr th:only-of-type {\n",
       "        vertical-align: middle;\n",
       "    }\n",
       "\n",
       "    .dataframe tbody tr th {\n",
       "        vertical-align: top;\n",
       "    }\n",
       "\n",
       "    .dataframe thead th {\n",
       "        text-align: right;\n",
       "    }\n",
       "</style>\n",
       "<table border=\"1\" class=\"dataframe\">\n",
       "  <thead>\n",
       "    <tr style=\"text-align: right;\">\n",
       "      <th></th>\n",
       "      <th>sepal_length</th>\n",
       "      <th>sepal_width</th>\n",
       "      <th>petal_length</th>\n",
       "      <th>petal_width</th>\n",
       "      <th>species</th>\n",
       "    </tr>\n",
       "  </thead>\n",
       "  <tbody>\n",
       "    <tr>\n",
       "      <th>0</th>\n",
       "      <td>5.1</td>\n",
       "      <td>3.5</td>\n",
       "      <td>1.4</td>\n",
       "      <td>0.2</td>\n",
       "      <td>Iris-setosa</td>\n",
       "    </tr>\n",
       "    <tr>\n",
       "      <th>1</th>\n",
       "      <td>4.9</td>\n",
       "      <td>3.0</td>\n",
       "      <td>1.4</td>\n",
       "      <td>0.2</td>\n",
       "      <td>Iris-setosa</td>\n",
       "    </tr>\n",
       "    <tr>\n",
       "      <th>2</th>\n",
       "      <td>4.7</td>\n",
       "      <td>3.2</td>\n",
       "      <td>1.3</td>\n",
       "      <td>0.2</td>\n",
       "      <td>Iris-setosa</td>\n",
       "    </tr>\n",
       "    <tr>\n",
       "      <th>3</th>\n",
       "      <td>4.6</td>\n",
       "      <td>3.1</td>\n",
       "      <td>1.5</td>\n",
       "      <td>0.2</td>\n",
       "      <td>Iris-setosa</td>\n",
       "    </tr>\n",
       "    <tr>\n",
       "      <th>4</th>\n",
       "      <td>5.0</td>\n",
       "      <td>3.6</td>\n",
       "      <td>1.4</td>\n",
       "      <td>0.2</td>\n",
       "      <td>Iris-setosa</td>\n",
       "    </tr>\n",
       "  </tbody>\n",
       "</table>\n",
       "</div>"
      ],
      "text/plain": [
       "   sepal_length  sepal_width  petal_length  petal_width      species\n",
       "0           5.1          3.5           1.4          0.2  Iris-setosa\n",
       "1           4.9          3.0           1.4          0.2  Iris-setosa\n",
       "2           4.7          3.2           1.3          0.2  Iris-setosa\n",
       "3           4.6          3.1           1.5          0.2  Iris-setosa\n",
       "4           5.0          3.6           1.4          0.2  Iris-setosa"
      ]
     },
     "execution_count": 3,
     "metadata": {},
     "output_type": "execute_result"
    }
   ],
   "source": [
    "# Importing the dataset\n",
    "iris_df = pd.read_csv(\"iris.csv\")\n",
    "iris_df.head()"
   ]
  },
  {
   "cell_type": "code",
   "execution_count": 4,
   "id": "2bc835be",
   "metadata": {},
   "outputs": [
    {
     "data": {
      "text/plain": [
       "(150, 5)"
      ]
     },
     "execution_count": 4,
     "metadata": {},
     "output_type": "execute_result"
    }
   ],
   "source": [
    "# check the dimensions of the dataframe\n",
    "iris_df.shape"
   ]
  },
  {
   "cell_type": "code",
   "execution_count": 5,
   "id": "f3635a18",
   "metadata": {},
   "outputs": [
    {
     "name": "stdout",
     "output_type": "stream",
     "text": [
      "<class 'pandas.core.frame.DataFrame'>\n",
      "RangeIndex: 150 entries, 0 to 149\n",
      "Data columns (total 5 columns):\n",
      " #   Column        Non-Null Count  Dtype  \n",
      "---  ------        --------------  -----  \n",
      " 0   sepal_length  150 non-null    float64\n",
      " 1   sepal_width   150 non-null    float64\n",
      " 2   petal_length  150 non-null    float64\n",
      " 3   petal_width   150 non-null    float64\n",
      " 4   species       150 non-null    object \n",
      "dtypes: float64(4), object(1)\n",
      "memory usage: 6.0+ KB\n"
     ]
    }
   ],
   "source": [
    "# see the type of each column\n",
    "iris_df.info()"
   ]
  },
  {
   "cell_type": "code",
   "execution_count": 6,
   "id": "c2235826",
   "metadata": {},
   "outputs": [
    {
     "data": {
      "text/html": [
       "<div>\n",
       "<style scoped>\n",
       "    .dataframe tbody tr th:only-of-type {\n",
       "        vertical-align: middle;\n",
       "    }\n",
       "\n",
       "    .dataframe tbody tr th {\n",
       "        vertical-align: top;\n",
       "    }\n",
       "\n",
       "    .dataframe thead th {\n",
       "        text-align: right;\n",
       "    }\n",
       "</style>\n",
       "<table border=\"1\" class=\"dataframe\">\n",
       "  <thead>\n",
       "    <tr style=\"text-align: right;\">\n",
       "      <th></th>\n",
       "      <th>sepal_length</th>\n",
       "      <th>sepal_width</th>\n",
       "      <th>petal_length</th>\n",
       "      <th>petal_width</th>\n",
       "      <th>species</th>\n",
       "    </tr>\n",
       "  </thead>\n",
       "  <tbody>\n",
       "    <tr>\n",
       "      <th>count</th>\n",
       "      <td>150.000000</td>\n",
       "      <td>150.000000</td>\n",
       "      <td>150.000000</td>\n",
       "      <td>150.000000</td>\n",
       "      <td>150</td>\n",
       "    </tr>\n",
       "    <tr>\n",
       "      <th>unique</th>\n",
       "      <td>NaN</td>\n",
       "      <td>NaN</td>\n",
       "      <td>NaN</td>\n",
       "      <td>NaN</td>\n",
       "      <td>3</td>\n",
       "    </tr>\n",
       "    <tr>\n",
       "      <th>top</th>\n",
       "      <td>NaN</td>\n",
       "      <td>NaN</td>\n",
       "      <td>NaN</td>\n",
       "      <td>NaN</td>\n",
       "      <td>Iris-setosa</td>\n",
       "    </tr>\n",
       "    <tr>\n",
       "      <th>freq</th>\n",
       "      <td>NaN</td>\n",
       "      <td>NaN</td>\n",
       "      <td>NaN</td>\n",
       "      <td>NaN</td>\n",
       "      <td>50</td>\n",
       "    </tr>\n",
       "    <tr>\n",
       "      <th>mean</th>\n",
       "      <td>5.843333</td>\n",
       "      <td>3.054000</td>\n",
       "      <td>3.758667</td>\n",
       "      <td>1.198667</td>\n",
       "      <td>NaN</td>\n",
       "    </tr>\n",
       "    <tr>\n",
       "      <th>std</th>\n",
       "      <td>0.828066</td>\n",
       "      <td>0.433594</td>\n",
       "      <td>1.764420</td>\n",
       "      <td>0.763161</td>\n",
       "      <td>NaN</td>\n",
       "    </tr>\n",
       "    <tr>\n",
       "      <th>min</th>\n",
       "      <td>4.300000</td>\n",
       "      <td>2.000000</td>\n",
       "      <td>1.000000</td>\n",
       "      <td>0.100000</td>\n",
       "      <td>NaN</td>\n",
       "    </tr>\n",
       "    <tr>\n",
       "      <th>25%</th>\n",
       "      <td>5.100000</td>\n",
       "      <td>2.800000</td>\n",
       "      <td>1.600000</td>\n",
       "      <td>0.300000</td>\n",
       "      <td>NaN</td>\n",
       "    </tr>\n",
       "    <tr>\n",
       "      <th>50%</th>\n",
       "      <td>5.800000</td>\n",
       "      <td>3.000000</td>\n",
       "      <td>4.350000</td>\n",
       "      <td>1.300000</td>\n",
       "      <td>NaN</td>\n",
       "    </tr>\n",
       "    <tr>\n",
       "      <th>75%</th>\n",
       "      <td>6.400000</td>\n",
       "      <td>3.300000</td>\n",
       "      <td>5.100000</td>\n",
       "      <td>1.800000</td>\n",
       "      <td>NaN</td>\n",
       "    </tr>\n",
       "    <tr>\n",
       "      <th>max</th>\n",
       "      <td>7.900000</td>\n",
       "      <td>4.400000</td>\n",
       "      <td>6.900000</td>\n",
       "      <td>2.500000</td>\n",
       "      <td>NaN</td>\n",
       "    </tr>\n",
       "  </tbody>\n",
       "</table>\n",
       "</div>"
      ],
      "text/plain": [
       "        sepal_length  sepal_width  petal_length  petal_width      species\n",
       "count     150.000000   150.000000    150.000000   150.000000          150\n",
       "unique           NaN          NaN           NaN          NaN            3\n",
       "top              NaN          NaN           NaN          NaN  Iris-setosa\n",
       "freq             NaN          NaN           NaN          NaN           50\n",
       "mean        5.843333     3.054000      3.758667     1.198667          NaN\n",
       "std         0.828066     0.433594      1.764420     0.763161          NaN\n",
       "min         4.300000     2.000000      1.000000     0.100000          NaN\n",
       "25%         5.100000     2.800000      1.600000     0.300000          NaN\n",
       "50%         5.800000     3.000000      4.350000     1.300000          NaN\n",
       "75%         6.400000     3.300000      5.100000     1.800000          NaN\n",
       "max         7.900000     4.400000      6.900000     2.500000          NaN"
      ]
     },
     "execution_count": 6,
     "metadata": {},
     "output_type": "execute_result"
    }
   ],
   "source": [
    "# look at the statistical aspects of the dataframe\n",
    "iris_df.describe(include = \"all\")"
   ]
  },
  {
   "cell_type": "code",
   "execution_count": 7,
   "id": "2134ea2e",
   "metadata": {},
   "outputs": [
    {
     "data": {
      "text/plain": [
       "Index(['sepal_length', 'sepal_width', 'petal_length', 'petal_width',\n",
       "       'species'],\n",
       "      dtype='object')"
      ]
     },
     "execution_count": 7,
     "metadata": {},
     "output_type": "execute_result"
    }
   ],
   "source": [
    "iris_df.columns"
   ]
  },
  {
   "cell_type": "markdown",
   "id": "34238426",
   "metadata": {},
   "source": [
    "### Checking for Duplicates"
   ]
  },
  {
   "cell_type": "code",
   "execution_count": 8,
   "id": "c9075b09",
   "metadata": {},
   "outputs": [
    {
     "data": {
      "text/html": [
       "<div>\n",
       "<style scoped>\n",
       "    .dataframe tbody tr th:only-of-type {\n",
       "        vertical-align: middle;\n",
       "    }\n",
       "\n",
       "    .dataframe tbody tr th {\n",
       "        vertical-align: top;\n",
       "    }\n",
       "\n",
       "    .dataframe thead th {\n",
       "        text-align: right;\n",
       "    }\n",
       "</style>\n",
       "<table border=\"1\" class=\"dataframe\">\n",
       "  <thead>\n",
       "    <tr style=\"text-align: right;\">\n",
       "      <th></th>\n",
       "      <th>sepal_length</th>\n",
       "      <th>sepal_width</th>\n",
       "      <th>petal_length</th>\n",
       "      <th>petal_width</th>\n",
       "      <th>species</th>\n",
       "    </tr>\n",
       "  </thead>\n",
       "  <tbody>\n",
       "    <tr>\n",
       "      <th>34</th>\n",
       "      <td>4.9</td>\n",
       "      <td>3.1</td>\n",
       "      <td>1.5</td>\n",
       "      <td>0.1</td>\n",
       "      <td>Iris-setosa</td>\n",
       "    </tr>\n",
       "    <tr>\n",
       "      <th>37</th>\n",
       "      <td>4.9</td>\n",
       "      <td>3.1</td>\n",
       "      <td>1.5</td>\n",
       "      <td>0.1</td>\n",
       "      <td>Iris-setosa</td>\n",
       "    </tr>\n",
       "    <tr>\n",
       "      <th>142</th>\n",
       "      <td>5.8</td>\n",
       "      <td>2.7</td>\n",
       "      <td>5.1</td>\n",
       "      <td>1.9</td>\n",
       "      <td>Iris-virginica</td>\n",
       "    </tr>\n",
       "  </tbody>\n",
       "</table>\n",
       "</div>"
      ],
      "text/plain": [
       "     sepal_length  sepal_width  petal_length  petal_width         species\n",
       "34            4.9          3.1           1.5          0.1     Iris-setosa\n",
       "37            4.9          3.1           1.5          0.1     Iris-setosa\n",
       "142           5.8          2.7           5.1          1.9  Iris-virginica"
      ]
     },
     "execution_count": 8,
     "metadata": {},
     "output_type": "execute_result"
    }
   ],
   "source": [
    "# Checking the duplicate values\n",
    "duplicatevalues =iris_df.duplicated()\n",
    "iris_df[duplicatevalues]"
   ]
  },
  {
   "cell_type": "code",
   "execution_count": 9,
   "id": "6e64420f",
   "metadata": {},
   "outputs": [
    {
     "data": {
      "text/plain": [
       "3"
      ]
     },
     "execution_count": 9,
     "metadata": {},
     "output_type": "execute_result"
    }
   ],
   "source": [
    "iris_df.duplicated().sum()"
   ]
  },
  {
   "cell_type": "code",
   "execution_count": 10,
   "id": "76798b55",
   "metadata": {},
   "outputs": [],
   "source": [
    "# Dropping the duplicates\n",
    "iris_df.drop_duplicates(inplace = True)"
   ]
  },
  {
   "cell_type": "code",
   "execution_count": 11,
   "id": "1f91c342",
   "metadata": {},
   "outputs": [
    {
     "data": {
      "text/plain": [
       "0"
      ]
     },
     "execution_count": 11,
     "metadata": {},
     "output_type": "execute_result"
    }
   ],
   "source": [
    "iris_df.duplicated().sum()"
   ]
  },
  {
   "cell_type": "markdown",
   "id": "5bd12ad7",
   "metadata": {},
   "source": [
    "### Checking for Null values\n"
   ]
  },
  {
   "cell_type": "code",
   "execution_count": 12,
   "id": "43cc916f",
   "metadata": {},
   "outputs": [
    {
     "data": {
      "text/plain": [
       "sepal_length    0\n",
       "sepal_width     0\n",
       "petal_length    0\n",
       "petal_width     0\n",
       "species         0\n",
       "dtype: int64"
      ]
     },
     "execution_count": 12,
     "metadata": {},
     "output_type": "execute_result"
    }
   ],
   "source": [
    "iris_df.isna().sum()"
   ]
  },
  {
   "cell_type": "markdown",
   "id": "d66570fc",
   "metadata": {},
   "source": [
    "### Checking the Outliers"
   ]
  },
  {
   "cell_type": "code",
   "execution_count": 13,
   "id": "960f0eba",
   "metadata": {},
   "outputs": [],
   "source": [
    "import seaborn as sns\n",
    "import matplotlib.pyplot as plt"
   ]
  },
  {
   "cell_type": "code",
   "execution_count": 14,
   "id": "1ebab718",
   "metadata": {},
   "outputs": [],
   "source": [
    "# Checking for outliers in the continuous variables\n",
    "num_df = iris_df[['sepal_length','sepal_width','petal_length','petal_width']]"
   ]
  },
  {
   "cell_type": "code",
   "execution_count": 15,
   "id": "de4ba4cb",
   "metadata": {},
   "outputs": [
    {
     "data": {
      "text/html": [
       "<div>\n",
       "<style scoped>\n",
       "    .dataframe tbody tr th:only-of-type {\n",
       "        vertical-align: middle;\n",
       "    }\n",
       "\n",
       "    .dataframe tbody tr th {\n",
       "        vertical-align: top;\n",
       "    }\n",
       "\n",
       "    .dataframe thead th {\n",
       "        text-align: right;\n",
       "    }\n",
       "</style>\n",
       "<table border=\"1\" class=\"dataframe\">\n",
       "  <thead>\n",
       "    <tr style=\"text-align: right;\">\n",
       "      <th></th>\n",
       "      <th>sepal_length</th>\n",
       "      <th>sepal_width</th>\n",
       "      <th>petal_length</th>\n",
       "      <th>petal_width</th>\n",
       "    </tr>\n",
       "  </thead>\n",
       "  <tbody>\n",
       "    <tr>\n",
       "      <th>count</th>\n",
       "      <td>147.000000</td>\n",
       "      <td>147.000000</td>\n",
       "      <td>147.000000</td>\n",
       "      <td>147.000000</td>\n",
       "    </tr>\n",
       "    <tr>\n",
       "      <th>mean</th>\n",
       "      <td>5.856463</td>\n",
       "      <td>3.055782</td>\n",
       "      <td>3.780272</td>\n",
       "      <td>1.208844</td>\n",
       "    </tr>\n",
       "    <tr>\n",
       "      <th>std</th>\n",
       "      <td>0.829100</td>\n",
       "      <td>0.437009</td>\n",
       "      <td>1.759111</td>\n",
       "      <td>0.757874</td>\n",
       "    </tr>\n",
       "    <tr>\n",
       "      <th>min</th>\n",
       "      <td>4.300000</td>\n",
       "      <td>2.000000</td>\n",
       "      <td>1.000000</td>\n",
       "      <td>0.100000</td>\n",
       "    </tr>\n",
       "    <tr>\n",
       "      <th>25%</th>\n",
       "      <td>5.100000</td>\n",
       "      <td>2.800000</td>\n",
       "      <td>1.600000</td>\n",
       "      <td>0.300000</td>\n",
       "    </tr>\n",
       "    <tr>\n",
       "      <th>50%</th>\n",
       "      <td>5.800000</td>\n",
       "      <td>3.000000</td>\n",
       "      <td>4.400000</td>\n",
       "      <td>1.300000</td>\n",
       "    </tr>\n",
       "    <tr>\n",
       "      <th>75%</th>\n",
       "      <td>6.400000</td>\n",
       "      <td>3.300000</td>\n",
       "      <td>5.100000</td>\n",
       "      <td>1.800000</td>\n",
       "    </tr>\n",
       "    <tr>\n",
       "      <th>90%</th>\n",
       "      <td>6.900000</td>\n",
       "      <td>3.640000</td>\n",
       "      <td>5.800000</td>\n",
       "      <td>2.200000</td>\n",
       "    </tr>\n",
       "    <tr>\n",
       "      <th>95%</th>\n",
       "      <td>7.270000</td>\n",
       "      <td>3.800000</td>\n",
       "      <td>6.100000</td>\n",
       "      <td>2.300000</td>\n",
       "    </tr>\n",
       "    <tr>\n",
       "      <th>99%</th>\n",
       "      <td>7.700000</td>\n",
       "      <td>4.154000</td>\n",
       "      <td>6.700000</td>\n",
       "      <td>2.500000</td>\n",
       "    </tr>\n",
       "    <tr>\n",
       "      <th>max</th>\n",
       "      <td>7.900000</td>\n",
       "      <td>4.400000</td>\n",
       "      <td>6.900000</td>\n",
       "      <td>2.500000</td>\n",
       "    </tr>\n",
       "  </tbody>\n",
       "</table>\n",
       "</div>"
      ],
      "text/plain": [
       "       sepal_length  sepal_width  petal_length  petal_width\n",
       "count    147.000000   147.000000    147.000000   147.000000\n",
       "mean       5.856463     3.055782      3.780272     1.208844\n",
       "std        0.829100     0.437009      1.759111     0.757874\n",
       "min        4.300000     2.000000      1.000000     0.100000\n",
       "25%        5.100000     2.800000      1.600000     0.300000\n",
       "50%        5.800000     3.000000      4.400000     1.300000\n",
       "75%        6.400000     3.300000      5.100000     1.800000\n",
       "90%        6.900000     3.640000      5.800000     2.200000\n",
       "95%        7.270000     3.800000      6.100000     2.300000\n",
       "99%        7.700000     4.154000      6.700000     2.500000\n",
       "max        7.900000     4.400000      6.900000     2.500000"
      ]
     },
     "execution_count": 15,
     "metadata": {},
     "output_type": "execute_result"
    }
   ],
   "source": [
    "# Checking outliers at 25%, 50%, 75%, 90%, 95% and 99%\n",
    "num_df.describe(percentiles=[.25, .5, .75, .90, .95, .99])"
   ]
  },
  {
   "cell_type": "code",
   "execution_count": 16,
   "id": "1194fb9c",
   "metadata": {},
   "outputs": [
    {
     "data": {
      "text/plain": [
       "<AxesSubplot:>"
      ]
     },
     "execution_count": 16,
     "metadata": {},
     "output_type": "execute_result"
    },
    {
     "data": {
      "image/png": "[encoded data removed]",
      "text/plain": [
       "<Figure size 1080x504 with 1 Axes>"
      ]
     },
     "metadata": {
      "needs_background": "light"
     },
     "output_type": "display_data"
    }
   ],
   "source": [
    "plt.figure(figsize=(15,7))\n",
    "iris_df[['sepal_length','sepal_width','petal_length','petal_width']].boxplot()"
   ]
  },
  {
   "cell_type": "code",
   "execution_count": 17,
   "id": "6a09e62a",
   "metadata": {},
   "outputs": [],
   "source": [
    "def remove_outlier(col):\n",
    "    sorted(col)\n",
    "    Q1,Q3=np.percentile(col,[25,75])\n",
    "    IQR=Q3-Q1\n",
    "    lower_range= Q1-(1.5 * IQR)\n",
    "    upper_range= Q3+(1.5 * IQR)\n",
    "    return lower_range, upper_range"
   ]
  },
  {
   "cell_type": "code",
   "execution_count": 18,
   "id": "1f6c5b53",
   "metadata": {},
   "outputs": [],
   "source": [
    "for feature in iris_df[['sepal_length','sepal_width','petal_length','petal_width']]: \n",
    "    lr,ur=remove_outlier(iris_df[feature])\n",
    "    iris_df[feature]=np.where(iris_df[feature]>ur,ur,iris_df[feature])\n",
    "    iris_df[feature]=np.where(iris_df[feature]<lr,lr,iris_df[feature])"
   ]
  },
  {
   "cell_type": "code",
   "execution_count": 19,
   "id": "c6c09d02",
   "metadata": {},
   "outputs": [
    {
     "data": {
      "text/plain": [
       "<AxesSubplot:>"
      ]
     },
     "execution_count": 19,
     "metadata": {},
     "output_type": "execute_result"
    },
    {
     "data": {
      "image/png": "[encoded data removed]",
      "text/plain": [
       "<Figure size 1080x504 with 1 Axes>"
      ]
     },
     "metadata": {
      "needs_background": "light"
     },
     "output_type": "display_data"
    }
   ],
   "source": [
    "plt.figure(figsize=(15,7))\n",
    "iris_df[['sepal_length','sepal_width','petal_length','petal_width']].boxplot()"
   ]
  },
  {
   "cell_type": "code",
   "execution_count": 20,
   "id": "d49dea55",
   "metadata": {},
   "outputs": [
    {
     "data": {
      "text/plain": [
       "<seaborn.axisgrid.PairGrid at 0x2995dd719a0>"
      ]
     },
     "execution_count": 20,
     "metadata": {},
     "output_type": "execute_result"
    },
    {
     "data": {
      "image/png": "[encoded data removed]",
      "text/plain": [
       "<Figure size 967.25x864 with 20 Axes>"
      ]
     },
     "metadata": {
      "needs_background": "light"
     },
     "output_type": "display_data"
    }
   ],
   "source": [
    "sns.pairplot(data = iris_df,hue=\"species\", size = 3)"
   ]
  },
  {
   "cell_type": "code",
   "execution_count": 21,
   "id": "6e8eb118",
   "metadata": {},
   "outputs": [
    {
     "data": {
      "text/plain": [
       "<seaborn.axisgrid.FacetGrid at 0x2995f600520>"
      ]
     },
     "execution_count": 21,
     "metadata": {},
     "output_type": "execute_result"
    },
    {
     "data": {
      "image/png": "[encoded data removed]",
      "text/plain": [
       "<Figure size 463.25x360 with 1 Axes>"
      ]
     },
     "metadata": {
      "needs_background": "light"
     },
     "output_type": "display_data"
    }
   ],
   "source": [
    "sns.relplot(x=\"sepal_length\", y=\"sepal_width\", data = iris_df ,hue='species',style='species')"
   ]
  },
  {
   "cell_type": "code",
   "execution_count": 22,
   "id": "c06e7c9d",
   "metadata": {},
   "outputs": [
    {
     "data": {
      "text/plain": [
       "<AxesSubplot:xlabel='sepal_length', ylabel='sepal_width'>"
      ]
     },
     "execution_count": 22,
     "metadata": {},
     "output_type": "execute_result"
    },
    {
     "data": {
      "image/png": "[encoded data removed]",
      "text/plain": [
       "<Figure size 432x288 with 1 Axes>"
      ]
     },
     "metadata": {
      "needs_background": "light"
     },
     "output_type": "display_data"
    }
   ],
   "source": [
    "sns.regplot(x=\"sepal_length\", y=\"sepal_width\", data = iris_df)"
   ]
  },
  {
   "cell_type": "code",
   "execution_count": 23,
   "id": "be15b430",
   "metadata": {},
   "outputs": [
    {
     "data": {
      "text/plain": [
       "<seaborn.axisgrid.FacetGrid at 0x2995ecb4be0>"
      ]
     },
     "execution_count": 23,
     "metadata": {},
     "output_type": "execute_result"
    },
    {
     "data": {
      "image/png": "[encoded data removed]",
      "text/plain": [
       "<Figure size 463.25x360 with 1 Axes>"
      ]
     },
     "metadata": {
      "needs_background": "light"
     },
     "output_type": "display_data"
    }
   ],
   "source": [
    "sns.relplot(x=\"petal_length\", y=\"petal_width\", data = iris_df ,hue='species',style='species')"
   ]
  },
  {
   "cell_type": "code",
   "execution_count": 24,
   "id": "311d96df",
   "metadata": {},
   "outputs": [
    {
     "data": {
      "text/plain": [
       "<AxesSubplot:xlabel='petal_length', ylabel='petal_width'>"
      ]
     },
     "execution_count": 24,
     "metadata": {},
     "output_type": "execute_result"
    },
    {
     "data": {
      "image/png": "[encoded data removed]",
      "text/plain": [
       "<Figure size 432x288 with 1 Axes>"
      ]
     },
     "metadata": {
      "needs_background": "light"
     },
     "output_type": "display_data"
    }
   ],
   "source": [
    "sns.regplot(x=\"petal_length\", y=\"petal_width\", data = iris_df )"
   ]
  },
  {
   "cell_type": "markdown",
   "id": "5c78f028",
   "metadata": {},
   "source": [
    "### Checking correlations"
   ]
  },
  {
   "cell_type": "code",
   "execution_count": 25,
   "id": "39c0f58b",
   "metadata": {},
   "outputs": [
    {
     "data": {
      "text/html": [
       "<div>\n",
       "<style scoped>\n",
       "    .dataframe tbody tr th:only-of-type {\n",
       "        vertical-align: middle;\n",
       "    }\n",
       "\n",
       "    .dataframe tbody tr th {\n",
       "        vertical-align: top;\n",
       "    }\n",
       "\n",
       "    .dataframe thead th {\n",
       "        text-align: right;\n",
       "    }\n",
       "</style>\n",
       "<table border=\"1\" class=\"dataframe\">\n",
       "  <thead>\n",
       "    <tr style=\"text-align: right;\">\n",
       "      <th></th>\n",
       "      <th>sepal_length</th>\n",
       "      <th>sepal_width</th>\n",
       "      <th>petal_length</th>\n",
       "      <th>petal_width</th>\n",
       "    </tr>\n",
       "  </thead>\n",
       "  <tbody>\n",
       "    <tr>\n",
       "      <th>sepal_length</th>\n",
       "      <td>1.000000</td>\n",
       "      <td>-0.110155</td>\n",
       "      <td>0.871305</td>\n",
       "      <td>0.817058</td>\n",
       "    </tr>\n",
       "    <tr>\n",
       "      <th>sepal_width</th>\n",
       "      <td>-0.110155</td>\n",
       "      <td>1.000000</td>\n",
       "      <td>-0.420140</td>\n",
       "      <td>-0.355139</td>\n",
       "    </tr>\n",
       "    <tr>\n",
       "      <th>petal_length</th>\n",
       "      <td>0.871305</td>\n",
       "      <td>-0.420140</td>\n",
       "      <td>1.000000</td>\n",
       "      <td>0.961883</td>\n",
       "    </tr>\n",
       "    <tr>\n",
       "      <th>petal_width</th>\n",
       "      <td>0.817058</td>\n",
       "      <td>-0.355139</td>\n",
       "      <td>0.961883</td>\n",
       "      <td>1.000000</td>\n",
       "    </tr>\n",
       "  </tbody>\n",
       "</table>\n",
       "</div>"
      ],
      "text/plain": [
       "              sepal_length  sepal_width  petal_length  petal_width\n",
       "sepal_length      1.000000    -0.110155      0.871305     0.817058\n",
       "sepal_width      -0.110155     1.000000     -0.420140    -0.355139\n",
       "petal_length      0.871305    -0.420140      1.000000     0.961883\n",
       "petal_width       0.817058    -0.355139      0.961883     1.000000"
      ]
     },
     "execution_count": 25,
     "metadata": {},
     "output_type": "execute_result"
    }
   ],
   "source": [
    "iris_df.corr()"
   ]
  },
  {
   "cell_type": "code",
   "execution_count": 26,
   "id": "0ba79641",
   "metadata": {},
   "outputs": [
    {
     "data": {
      "image/png": "[encoded data removed]",
      "text/plain": [
       "<Figure size 1440x720 with 2 Axes>"
      ]
     },
     "metadata": {
      "needs_background": "light"
     },
     "output_type": "display_data"
    }
   ],
   "source": [
    "# Let's see the correlation matrix \n",
    "plt.figure(figsize = (20,10))        # Size of the figure\n",
    "sns.heatmap(iris_df.corr(),annot = True)\n",
    "plt.show()"
   ]
  },
  {
   "cell_type": "code",
   "execution_count": 27,
   "id": "d83bbfeb",
   "metadata": {},
   "outputs": [
    {
     "data": {
      "text/plain": [
       "array(['Iris-setosa', 'Iris-versicolor', 'Iris-virginica'], dtype=object)"
      ]
     },
     "execution_count": 27,
     "metadata": {},
     "output_type": "execute_result"
    }
   ],
   "source": [
    "iris_df['species'].unique()"
   ]
  },
  {
   "cell_type": "code",
   "execution_count": 28,
   "id": "bb787efe",
   "metadata": {},
   "outputs": [
    {
     "data": {
      "text/plain": [
       "Iris-versicolor    50\n",
       "Iris-virginica     49\n",
       "Iris-setosa        48\n",
       "Name: species, dtype: int64"
      ]
     },
     "execution_count": 28,
     "metadata": {},
     "output_type": "execute_result"
    }
   ],
   "source": [
    "iris_df[\"species\"].value_counts()"
   ]
  },
  {
   "cell_type": "code",
   "execution_count": 29,
   "id": "7b9b3d26",
   "metadata": {},
   "outputs": [],
   "source": [
    "iris_df.species = iris_df.species.replace(to_replace=['Iris-setosa', 'Iris-versicolor','Iris-virginica'], value=[0, 1,2])"
   ]
  },
  {
   "cell_type": "code",
   "execution_count": 30,
   "id": "0d2ece45",
   "metadata": {},
   "outputs": [
    {
     "data": {
      "text/html": [
       "<div>\n",
       "<style scoped>\n",
       "    .dataframe tbody tr th:only-of-type {\n",
       "        vertical-align: middle;\n",
       "    }\n",
       "\n",
       "    .dataframe tbody tr th {\n",
       "        vertical-align: top;\n",
       "    }\n",
       "\n",
       "    .dataframe thead th {\n",
       "        text-align: right;\n",
       "    }\n",
       "</style>\n",
       "<table border=\"1\" class=\"dataframe\">\n",
       "  <thead>\n",
       "    <tr style=\"text-align: right;\">\n",
       "      <th></th>\n",
       "      <th>sepal_length</th>\n",
       "      <th>sepal_width</th>\n",
       "      <th>petal_length</th>\n",
       "      <th>petal_width</th>\n",
       "      <th>species</th>\n",
       "    </tr>\n",
       "  </thead>\n",
       "  <tbody>\n",
       "    <tr>\n",
       "      <th>0</th>\n",
       "      <td>5.1</td>\n",
       "      <td>3.5</td>\n",
       "      <td>1.4</td>\n",
       "      <td>0.2</td>\n",
       "      <td>0</td>\n",
       "    </tr>\n",
       "    <tr>\n",
       "      <th>1</th>\n",
       "      <td>4.9</td>\n",
       "      <td>3.0</td>\n",
       "      <td>1.4</td>\n",
       "      <td>0.2</td>\n",
       "      <td>0</td>\n",
       "    </tr>\n",
       "    <tr>\n",
       "      <th>2</th>\n",
       "      <td>4.7</td>\n",
       "      <td>3.2</td>\n",
       "      <td>1.3</td>\n",
       "      <td>0.2</td>\n",
       "      <td>0</td>\n",
       "    </tr>\n",
       "    <tr>\n",
       "      <th>3</th>\n",
       "      <td>4.6</td>\n",
       "      <td>3.1</td>\n",
       "      <td>1.5</td>\n",
       "      <td>0.2</td>\n",
       "      <td>0</td>\n",
       "    </tr>\n",
       "    <tr>\n",
       "      <th>4</th>\n",
       "      <td>5.0</td>\n",
       "      <td>3.6</td>\n",
       "      <td>1.4</td>\n",
       "      <td>0.2</td>\n",
       "      <td>0</td>\n",
       "    </tr>\n",
       "  </tbody>\n",
       "</table>\n",
       "</div>"
      ],
      "text/plain": [
       "   sepal_length  sepal_width  petal_length  petal_width  species\n",
       "0           5.1          3.5           1.4          0.2        0\n",
       "1           4.9          3.0           1.4          0.2        0\n",
       "2           4.7          3.2           1.3          0.2        0\n",
       "3           4.6          3.1           1.5          0.2        0\n",
       "4           5.0          3.6           1.4          0.2        0"
      ]
     },
     "execution_count": 30,
     "metadata": {},
     "output_type": "execute_result"
    }
   ],
   "source": [
    "iris_df.head()"
   ]
  },
  {
   "cell_type": "code",
   "execution_count": 31,
   "id": "e36f8b3d",
   "metadata": {},
   "outputs": [
    {
     "data": {
      "text/plain": [
       "<AxesSubplot:xlabel='sepal_length', ylabel='Density'>"
      ]
     },
     "execution_count": 31,
     "metadata": {},
     "output_type": "execute_result"
    },
    {
     "data": {
      "image/png": "[encoded data removed]",
      "text/plain": [
       "<Figure size 432x288 with 1 Axes>"
      ]
     },
     "metadata": {
      "needs_background": "light"
     },
     "output_type": "display_data"
    }
   ],
   "source": [
    "sns.distplot(iris_df['sepal_length'])"
   ]
  },
  {
   "cell_type": "code",
   "execution_count": 32,
   "id": "4b9395f4",
   "metadata": {},
   "outputs": [
    {
     "data": {
      "text/plain": [
       "<AxesSubplot:xlabel='sepal_width', ylabel='Density'>"
      ]
     },
     "execution_count": 32,
     "metadata": {},
     "output_type": "execute_result"
    },
    {
     "data": {
      "image/png": "[encoded data removed]",
      "text/plain": [
       "<Figure size 432x288 with 1 Axes>"
      ]
     },
     "metadata": {
      "needs_background": "light"
     },
     "output_type": "display_data"
    }
   ],
   "source": [
    "sns.distplot(iris_df['sepal_width'])"
   ]
  },
  {
   "cell_type": "code",
   "execution_count": 33,
   "id": "97815a9f",
   "metadata": {},
   "outputs": [
    {
     "data": {
      "text/plain": [
       "<AxesSubplot:xlabel='petal_length', ylabel='Density'>"
      ]
     },
     "execution_count": 33,
     "metadata": {},
     "output_type": "execute_result"
    },
    {
     "data": {
      "image/png": "[encoded data removed]",
      "text/plain": [
       "<Figure size 432x288 with 1 Axes>"
      ]
     },
     "metadata": {
      "needs_background": "light"
     },
     "output_type": "display_data"
    }
   ],
   "source": [
    "sns.distplot(iris_df['petal_length'])"
   ]
  },
  {
   "cell_type": "code",
   "execution_count": 34,
   "id": "1049b578",
   "metadata": {},
   "outputs": [
    {
     "data": {
      "text/plain": [
       "<AxesSubplot:xlabel='petal_width', ylabel='Density'>"
      ]
     },
     "execution_count": 34,
     "metadata": {},
     "output_type": "execute_result"
    },
    {
     "data": {
      "image/png": "[encoded data removed]",
      "text/plain": [
       "<Figure size 432x288 with 1 Axes>"
      ]
     },
     "metadata": {
      "needs_background": "light"
     },
     "output_type": "display_data"
    }
   ],
   "source": [
    "sns.distplot(iris_df['petal_width'])"
   ]
  },
  {
   "cell_type": "markdown",
   "id": "56d5e9d8",
   "metadata": {},
   "source": [
    "iris_df.loc[iris_df['petal_width'].between(0, 1.0, 'both'), 'petal_width_range'] = 1\n",
    "iris_df.loc[iris_df['petal_width'].between(1.0, 1.75, 'right'), 'petal_width_range'] = 2\n",
    "iris_df.loc[iris_df['petal_width'].between(1.75, 2.5, 'right'), 'petal_width_range'] = 3"
   ]
  },
  {
   "cell_type": "code",
   "execution_count": 35,
   "id": "6a75063e",
   "metadata": {},
   "outputs": [
    {
     "data": {
      "text/html": [
       "<div>\n",
       "<style scoped>\n",
       "    .dataframe tbody tr th:only-of-type {\n",
       "        vertical-align: middle;\n",
       "    }\n",
       "\n",
       "    .dataframe tbody tr th {\n",
       "        vertical-align: top;\n",
       "    }\n",
       "\n",
       "    .dataframe thead th {\n",
       "        text-align: right;\n",
       "    }\n",
       "</style>\n",
       "<table border=\"1\" class=\"dataframe\">\n",
       "  <thead>\n",
       "    <tr style=\"text-align: right;\">\n",
       "      <th></th>\n",
       "      <th>sepal_length</th>\n",
       "      <th>sepal_width</th>\n",
       "      <th>petal_length</th>\n",
       "      <th>petal_width</th>\n",
       "      <th>species</th>\n",
       "    </tr>\n",
       "  </thead>\n",
       "  <tbody>\n",
       "    <tr>\n",
       "      <th>0</th>\n",
       "      <td>5.1</td>\n",
       "      <td>3.5</td>\n",
       "      <td>1.4</td>\n",
       "      <td>0.2</td>\n",
       "      <td>0</td>\n",
       "    </tr>\n",
       "    <tr>\n",
       "      <th>1</th>\n",
       "      <td>4.9</td>\n",
       "      <td>3.0</td>\n",
       "      <td>1.4</td>\n",
       "      <td>0.2</td>\n",
       "      <td>0</td>\n",
       "    </tr>\n",
       "    <tr>\n",
       "      <th>2</th>\n",
       "      <td>4.7</td>\n",
       "      <td>3.2</td>\n",
       "      <td>1.3</td>\n",
       "      <td>0.2</td>\n",
       "      <td>0</td>\n",
       "    </tr>\n",
       "    <tr>\n",
       "      <th>3</th>\n",
       "      <td>4.6</td>\n",
       "      <td>3.1</td>\n",
       "      <td>1.5</td>\n",
       "      <td>0.2</td>\n",
       "      <td>0</td>\n",
       "    </tr>\n",
       "    <tr>\n",
       "      <th>4</th>\n",
       "      <td>5.0</td>\n",
       "      <td>3.6</td>\n",
       "      <td>1.4</td>\n",
       "      <td>0.2</td>\n",
       "      <td>0</td>\n",
       "    </tr>\n",
       "  </tbody>\n",
       "</table>\n",
       "</div>"
      ],
      "text/plain": [
       "   sepal_length  sepal_width  petal_length  petal_width  species\n",
       "0           5.1          3.5           1.4          0.2        0\n",
       "1           4.9          3.0           1.4          0.2        0\n",
       "2           4.7          3.2           1.3          0.2        0\n",
       "3           4.6          3.1           1.5          0.2        0\n",
       "4           5.0          3.6           1.4          0.2        0"
      ]
     },
     "execution_count": 35,
     "metadata": {},
     "output_type": "execute_result"
    }
   ],
   "source": [
    "iris_df.head()"
   ]
  },
  {
   "cell_type": "markdown",
   "id": "662787c7",
   "metadata": {},
   "source": [
    "### Feature Generation"
   ]
  },
  {
   "cell_type": "code",
   "execution_count": 36,
   "id": "16595b95",
   "metadata": {},
   "outputs": [
    {
     "data": {
      "text/html": [
       "<div>\n",
       "<style scoped>\n",
       "    .dataframe tbody tr th:only-of-type {\n",
       "        vertical-align: middle;\n",
       "    }\n",
       "\n",
       "    .dataframe tbody tr th {\n",
       "        vertical-align: top;\n",
       "    }\n",
       "\n",
       "    .dataframe thead th {\n",
       "        text-align: right;\n",
       "    }\n",
       "</style>\n",
       "<table border=\"1\" class=\"dataframe\">\n",
       "  <thead>\n",
       "    <tr style=\"text-align: right;\">\n",
       "      <th></th>\n",
       "      <th>sepal_length</th>\n",
       "      <th>sepal_width</th>\n",
       "      <th>petal_length</th>\n",
       "      <th>petal_width</th>\n",
       "      <th>species</th>\n",
       "      <th>petal_length/sepal_width</th>\n",
       "      <th>petal_width/species</th>\n",
       "      <th>sepal_width/sepal_length</th>\n",
       "      <th>petal_width/sepal_length</th>\n",
       "    </tr>\n",
       "  </thead>\n",
       "  <tbody>\n",
       "    <tr>\n",
       "      <th>0</th>\n",
       "      <td>5.1</td>\n",
       "      <td>3.5</td>\n",
       "      <td>1.4</td>\n",
       "      <td>0.2</td>\n",
       "      <td>0</td>\n",
       "      <td>0.400000</td>\n",
       "      <td>0.001361</td>\n",
       "      <td>0.686275</td>\n",
       "      <td>0.039216</td>\n",
       "    </tr>\n",
       "    <tr>\n",
       "      <th>1</th>\n",
       "      <td>4.9</td>\n",
       "      <td>3.0</td>\n",
       "      <td>1.4</td>\n",
       "      <td>0.2</td>\n",
       "      <td>0</td>\n",
       "      <td>0.466667</td>\n",
       "      <td>0.001361</td>\n",
       "      <td>0.612245</td>\n",
       "      <td>0.040816</td>\n",
       "    </tr>\n",
       "    <tr>\n",
       "      <th>2</th>\n",
       "      <td>4.7</td>\n",
       "      <td>3.2</td>\n",
       "      <td>1.3</td>\n",
       "      <td>0.2</td>\n",
       "      <td>0</td>\n",
       "      <td>0.406250</td>\n",
       "      <td>0.001361</td>\n",
       "      <td>0.680851</td>\n",
       "      <td>0.042553</td>\n",
       "    </tr>\n",
       "    <tr>\n",
       "      <th>3</th>\n",
       "      <td>4.6</td>\n",
       "      <td>3.1</td>\n",
       "      <td>1.5</td>\n",
       "      <td>0.2</td>\n",
       "      <td>0</td>\n",
       "      <td>0.483871</td>\n",
       "      <td>0.001361</td>\n",
       "      <td>0.673913</td>\n",
       "      <td>0.043478</td>\n",
       "    </tr>\n",
       "    <tr>\n",
       "      <th>4</th>\n",
       "      <td>5.0</td>\n",
       "      <td>3.6</td>\n",
       "      <td>1.4</td>\n",
       "      <td>0.2</td>\n",
       "      <td>0</td>\n",
       "      <td>0.388889</td>\n",
       "      <td>0.001361</td>\n",
       "      <td>0.720000</td>\n",
       "      <td>0.040000</td>\n",
       "    </tr>\n",
       "    <tr>\n",
       "      <th>...</th>\n",
       "      <td>...</td>\n",
       "      <td>...</td>\n",
       "      <td>...</td>\n",
       "      <td>...</td>\n",
       "      <td>...</td>\n",
       "      <td>...</td>\n",
       "      <td>...</td>\n",
       "      <td>...</td>\n",
       "      <td>...</td>\n",
       "    </tr>\n",
       "    <tr>\n",
       "      <th>145</th>\n",
       "      <td>6.7</td>\n",
       "      <td>3.0</td>\n",
       "      <td>5.2</td>\n",
       "      <td>2.3</td>\n",
       "      <td>2</td>\n",
       "      <td>1.733333</td>\n",
       "      <td>0.015646</td>\n",
       "      <td>0.447761</td>\n",
       "      <td>0.343284</td>\n",
       "    </tr>\n",
       "    <tr>\n",
       "      <th>146</th>\n",
       "      <td>6.3</td>\n",
       "      <td>2.5</td>\n",
       "      <td>5.0</td>\n",
       "      <td>1.9</td>\n",
       "      <td>2</td>\n",
       "      <td>2.000000</td>\n",
       "      <td>0.012925</td>\n",
       "      <td>0.396825</td>\n",
       "      <td>0.301587</td>\n",
       "    </tr>\n",
       "    <tr>\n",
       "      <th>147</th>\n",
       "      <td>6.5</td>\n",
       "      <td>3.0</td>\n",
       "      <td>5.2</td>\n",
       "      <td>2.0</td>\n",
       "      <td>2</td>\n",
       "      <td>1.733333</td>\n",
       "      <td>0.013605</td>\n",
       "      <td>0.461538</td>\n",
       "      <td>0.307692</td>\n",
       "    </tr>\n",
       "    <tr>\n",
       "      <th>148</th>\n",
       "      <td>6.2</td>\n",
       "      <td>3.4</td>\n",
       "      <td>5.4</td>\n",
       "      <td>2.3</td>\n",
       "      <td>2</td>\n",
       "      <td>1.588235</td>\n",
       "      <td>0.015646</td>\n",
       "      <td>0.548387</td>\n",
       "      <td>0.370968</td>\n",
       "    </tr>\n",
       "    <tr>\n",
       "      <th>149</th>\n",
       "      <td>5.9</td>\n",
       "      <td>3.0</td>\n",
       "      <td>5.1</td>\n",
       "      <td>1.8</td>\n",
       "      <td>2</td>\n",
       "      <td>1.700000</td>\n",
       "      <td>0.012245</td>\n",
       "      <td>0.508475</td>\n",
       "      <td>0.305085</td>\n",
       "    </tr>\n",
       "  </tbody>\n",
       "</table>\n",
       "<p>147 rows × 9 columns</p>\n",
       "</div>"
      ],
      "text/plain": [
       "     sepal_length  sepal_width  petal_length  petal_width  species  \\\n",
       "0             5.1          3.5           1.4          0.2        0   \n",
       "1             4.9          3.0           1.4          0.2        0   \n",
       "2             4.7          3.2           1.3          0.2        0   \n",
       "3             4.6          3.1           1.5          0.2        0   \n",
       "4             5.0          3.6           1.4          0.2        0   \n",
       "..            ...          ...           ...          ...      ...   \n",
       "145           6.7          3.0           5.2          2.3        2   \n",
       "146           6.3          2.5           5.0          1.9        2   \n",
       "147           6.5          3.0           5.2          2.0        2   \n",
       "148           6.2          3.4           5.4          2.3        2   \n",
       "149           5.9          3.0           5.1          1.8        2   \n",
       "\n",
       "     petal_length/sepal_width  petal_width/species  sepal_width/sepal_length  \\\n",
       "0                    0.400000             0.001361                  0.686275   \n",
       "1                    0.466667             0.001361                  0.612245   \n",
       "2                    0.406250             0.001361                  0.680851   \n",
       "3                    0.483871             0.001361                  0.673913   \n",
       "4                    0.388889             0.001361                  0.720000   \n",
       "..                        ...                  ...                       ...   \n",
       "145                  1.733333             0.015646                  0.447761   \n",
       "146                  2.000000             0.012925                  0.396825   \n",
       "147                  1.733333             0.013605                  0.461538   \n",
       "148                  1.588235             0.015646                  0.548387   \n",
       "149                  1.700000             0.012245                  0.508475   \n",
       "\n",
       "     petal_width/sepal_length  \n",
       "0                    0.039216  \n",
       "1                    0.040816  \n",
       "2                    0.042553  \n",
       "3                    0.043478  \n",
       "4                    0.040000  \n",
       "..                        ...  \n",
       "145                  0.343284  \n",
       "146                  0.301587  \n",
       "147                  0.307692  \n",
       "148                  0.370968  \n",
       "149                  0.305085  \n",
       "\n",
       "[147 rows x 9 columns]"
      ]
     },
     "execution_count": 36,
     "metadata": {},
     "output_type": "execute_result"
    }
   ],
   "source": [
    "iris_df['petal_length/sepal_width'] = iris_df['petal_length'] / iris_df['sepal_width']\n",
    "iris_df['petal_width/species'] = iris_df['petal_width'] / iris_df['species'].count()\n",
    "iris_df['sepal_width/sepal_length'] = iris_df['sepal_width'] / iris_df['sepal_length']\n",
    "iris_df['petal_width/sepal_length'] = iris_df['petal_width'] / iris_df['sepal_length']\n",
    "iris_df"
   ]
  },
  {
   "cell_type": "markdown",
   "id": "07b63e19",
   "metadata": {},
   "source": [
    "### Feature Reduction"
   ]
  },
  {
   "cell_type": "code",
   "execution_count": 37,
   "id": "dae554ca",
   "metadata": {},
   "outputs": [],
   "source": [
    "y = iris_df[\"petal_width\"]\n",
    "X = iris_df.drop(columns=[\"petal_width\"])"
   ]
  },
  {
   "cell_type": "code",
   "execution_count": 38,
   "id": "20b8643f",
   "metadata": {},
   "outputs": [
    {
     "data": {
      "text/html": [
       "<div>\n",
       "<style scoped>\n",
       "    .dataframe tbody tr th:only-of-type {\n",
       "        vertical-align: middle;\n",
       "    }\n",
       "\n",
       "    .dataframe tbody tr th {\n",
       "        vertical-align: top;\n",
       "    }\n",
       "\n",
       "    .dataframe thead th {\n",
       "        text-align: right;\n",
       "    }\n",
       "</style>\n",
       "<table border=\"1\" class=\"dataframe\">\n",
       "  <thead>\n",
       "    <tr style=\"text-align: right;\">\n",
       "      <th></th>\n",
       "      <th>sepal_length</th>\n",
       "      <th>sepal_width</th>\n",
       "      <th>petal_length</th>\n",
       "      <th>species</th>\n",
       "      <th>petal_length/sepal_width</th>\n",
       "      <th>petal_width/species</th>\n",
       "      <th>sepal_width/sepal_length</th>\n",
       "      <th>petal_width/sepal_length</th>\n",
       "    </tr>\n",
       "  </thead>\n",
       "  <tbody>\n",
       "    <tr>\n",
       "      <th>0</th>\n",
       "      <td>5.1</td>\n",
       "      <td>3.5</td>\n",
       "      <td>1.4</td>\n",
       "      <td>0</td>\n",
       "      <td>0.400000</td>\n",
       "      <td>0.001361</td>\n",
       "      <td>0.686275</td>\n",
       "      <td>0.039216</td>\n",
       "    </tr>\n",
       "    <tr>\n",
       "      <th>1</th>\n",
       "      <td>4.9</td>\n",
       "      <td>3.0</td>\n",
       "      <td>1.4</td>\n",
       "      <td>0</td>\n",
       "      <td>0.466667</td>\n",
       "      <td>0.001361</td>\n",
       "      <td>0.612245</td>\n",
       "      <td>0.040816</td>\n",
       "    </tr>\n",
       "    <tr>\n",
       "      <th>2</th>\n",
       "      <td>4.7</td>\n",
       "      <td>3.2</td>\n",
       "      <td>1.3</td>\n",
       "      <td>0</td>\n",
       "      <td>0.406250</td>\n",
       "      <td>0.001361</td>\n",
       "      <td>0.680851</td>\n",
       "      <td>0.042553</td>\n",
       "    </tr>\n",
       "    <tr>\n",
       "      <th>3</th>\n",
       "      <td>4.6</td>\n",
       "      <td>3.1</td>\n",
       "      <td>1.5</td>\n",
       "      <td>0</td>\n",
       "      <td>0.483871</td>\n",
       "      <td>0.001361</td>\n",
       "      <td>0.673913</td>\n",
       "      <td>0.043478</td>\n",
       "    </tr>\n",
       "    <tr>\n",
       "      <th>4</th>\n",
       "      <td>5.0</td>\n",
       "      <td>3.6</td>\n",
       "      <td>1.4</td>\n",
       "      <td>0</td>\n",
       "      <td>0.388889</td>\n",
       "      <td>0.001361</td>\n",
       "      <td>0.720000</td>\n",
       "      <td>0.040000</td>\n",
       "    </tr>\n",
       "    <tr>\n",
       "      <th>...</th>\n",
       "      <td>...</td>\n",
       "      <td>...</td>\n",
       "      <td>...</td>\n",
       "      <td>...</td>\n",
       "      <td>...</td>\n",
       "      <td>...</td>\n",
       "      <td>...</td>\n",
       "      <td>...</td>\n",
       "    </tr>\n",
       "    <tr>\n",
       "      <th>145</th>\n",
       "      <td>6.7</td>\n",
       "      <td>3.0</td>\n",
       "      <td>5.2</td>\n",
       "      <td>2</td>\n",
       "      <td>1.733333</td>\n",
       "      <td>0.015646</td>\n",
       "      <td>0.447761</td>\n",
       "      <td>0.343284</td>\n",
       "    </tr>\n",
       "    <tr>\n",
       "      <th>146</th>\n",
       "      <td>6.3</td>\n",
       "      <td>2.5</td>\n",
       "      <td>5.0</td>\n",
       "      <td>2</td>\n",
       "      <td>2.000000</td>\n",
       "      <td>0.012925</td>\n",
       "      <td>0.396825</td>\n",
       "      <td>0.301587</td>\n",
       "    </tr>\n",
       "    <tr>\n",
       "      <th>147</th>\n",
       "      <td>6.5</td>\n",
       "      <td>3.0</td>\n",
       "      <td>5.2</td>\n",
       "      <td>2</td>\n",
       "      <td>1.733333</td>\n",
       "      <td>0.013605</td>\n",
       "      <td>0.461538</td>\n",
       "      <td>0.307692</td>\n",
       "    </tr>\n",
       "    <tr>\n",
       "      <th>148</th>\n",
       "      <td>6.2</td>\n",
       "      <td>3.4</td>\n",
       "      <td>5.4</td>\n",
       "      <td>2</td>\n",
       "      <td>1.588235</td>\n",
       "      <td>0.015646</td>\n",
       "      <td>0.548387</td>\n",
       "      <td>0.370968</td>\n",
       "    </tr>\n",
       "    <tr>\n",
       "      <th>149</th>\n",
       "      <td>5.9</td>\n",
       "      <td>3.0</td>\n",
       "      <td>5.1</td>\n",
       "      <td>2</td>\n",
       "      <td>1.700000</td>\n",
       "      <td>0.012245</td>\n",
       "      <td>0.508475</td>\n",
       "      <td>0.305085</td>\n",
       "    </tr>\n",
       "  </tbody>\n",
       "</table>\n",
       "<p>147 rows × 8 columns</p>\n",
       "</div>"
      ],
      "text/plain": [
       "     sepal_length  sepal_width  petal_length  species  \\\n",
       "0             5.1          3.5           1.4        0   \n",
       "1             4.9          3.0           1.4        0   \n",
       "2             4.7          3.2           1.3        0   \n",
       "3             4.6          3.1           1.5        0   \n",
       "4             5.0          3.6           1.4        0   \n",
       "..            ...          ...           ...      ...   \n",
       "145           6.7          3.0           5.2        2   \n",
       "146           6.3          2.5           5.0        2   \n",
       "147           6.5          3.0           5.2        2   \n",
       "148           6.2          3.4           5.4        2   \n",
       "149           5.9          3.0           5.1        2   \n",
       "\n",
       "     petal_length/sepal_width  petal_width/species  sepal_width/sepal_length  \\\n",
       "0                    0.400000             0.001361                  0.686275   \n",
       "1                    0.466667             0.001361                  0.612245   \n",
       "2                    0.406250             0.001361                  0.680851   \n",
       "3                    0.483871             0.001361                  0.673913   \n",
       "4                    0.388889             0.001361                  0.720000   \n",
       "..                        ...                  ...                       ...   \n",
       "145                  1.733333             0.015646                  0.447761   \n",
       "146                  2.000000             0.012925                  0.396825   \n",
       "147                  1.733333             0.013605                  0.461538   \n",
       "148                  1.588235             0.015646                  0.548387   \n",
       "149                  1.700000             0.012245                  0.508475   \n",
       "\n",
       "     petal_width/sepal_length  \n",
       "0                    0.039216  \n",
       "1                    0.040816  \n",
       "2                    0.042553  \n",
       "3                    0.043478  \n",
       "4                    0.040000  \n",
       "..                        ...  \n",
       "145                  0.343284  \n",
       "146                  0.301587  \n",
       "147                  0.307692  \n",
       "148                  0.370968  \n",
       "149                  0.305085  \n",
       "\n",
       "[147 rows x 8 columns]"
      ]
     },
     "execution_count": 38,
     "metadata": {},
     "output_type": "execute_result"
    }
   ],
   "source": [
    "X"
   ]
  },
  {
   "cell_type": "code",
   "execution_count": 337,
   "id": "6f6d7371",
   "metadata": {},
   "outputs": [
    {
     "name": "stdout",
     "output_type": "stream",
     "text": [
      "[0.00074219 0.00058713 0.09401342 0.33124157 0.1943976  0.30934365\n",
      " 0.0304268  0.03924763]\n"
     ]
    },
    {
     "data": {
      "image/png": "[encoded data removed]",
      "text/plain": [
       "<Figure size 432x288 with 1 Axes>"
      ]
     },
     "metadata": {
      "needs_background": "light"
     },
     "output_type": "display_data"
    }
   ],
   "source": [
    "from sklearn.ensemble import ExtraTreesRegressor\n",
    "\n",
    "clf = ExtraTreesRegressor(n_estimators=50)\n",
    "\n",
    "clf = clf.fit(X, y)\n",
    "print(clf.feature_importances_)  \n",
    "\n",
    "feat_importances = pd.Series(clf.feature_importances_, index=X.columns)\n",
    "feat_importances.nlargest(13).plot.bar()\n",
    "plt.show()\n",
    "list1=feat_importances.keys().to_list()"
   ]
  },
  {
   "cell_type": "code",
   "execution_count": 39,
   "id": "2005b8a1",
   "metadata": {},
   "outputs": [
    {
     "data": {
      "text/html": [
       "<div>\n",
       "<style scoped>\n",
       "    .dataframe tbody tr th:only-of-type {\n",
       "        vertical-align: middle;\n",
       "    }\n",
       "\n",
       "    .dataframe tbody tr th {\n",
       "        vertical-align: top;\n",
       "    }\n",
       "\n",
       "    .dataframe thead th {\n",
       "        text-align: right;\n",
       "    }\n",
       "</style>\n",
       "<table border=\"1\" class=\"dataframe\">\n",
       "  <thead>\n",
       "    <tr style=\"text-align: right;\">\n",
       "      <th></th>\n",
       "      <th>Features</th>\n",
       "      <th>VIF</th>\n",
       "    </tr>\n",
       "  </thead>\n",
       "  <tbody>\n",
       "    <tr>\n",
       "      <th>1</th>\n",
       "      <td>sepal_width</td>\n",
       "      <td>1356.94</td>\n",
       "    </tr>\n",
       "    <tr>\n",
       "      <th>0</th>\n",
       "      <td>sepal_length</td>\n",
       "      <td>830.80</td>\n",
       "    </tr>\n",
       "    <tr>\n",
       "      <th>5</th>\n",
       "      <td>petal_width/species</td>\n",
       "      <td>528.15</td>\n",
       "    </tr>\n",
       "    <tr>\n",
       "      <th>2</th>\n",
       "      <td>petal_length</td>\n",
       "      <td>504.13</td>\n",
       "    </tr>\n",
       "    <tr>\n",
       "      <th>4</th>\n",
       "      <td>petal_length/sepal_width</td>\n",
       "      <td>496.97</td>\n",
       "    </tr>\n",
       "    <tr>\n",
       "      <th>6</th>\n",
       "      <td>sepal_width/sepal_length</td>\n",
       "      <td>432.62</td>\n",
       "    </tr>\n",
       "    <tr>\n",
       "      <th>7</th>\n",
       "      <td>petal_width/sepal_length</td>\n",
       "      <td>357.24</td>\n",
       "    </tr>\n",
       "    <tr>\n",
       "      <th>3</th>\n",
       "      <td>species</td>\n",
       "      <td>39.24</td>\n",
       "    </tr>\n",
       "  </tbody>\n",
       "</table>\n",
       "</div>"
      ],
      "text/plain": [
       "                   Features      VIF\n",
       "1               sepal_width  1356.94\n",
       "0              sepal_length   830.80\n",
       "5       petal_width/species   528.15\n",
       "2              petal_length   504.13\n",
       "4  petal_length/sepal_width   496.97\n",
       "6  sepal_width/sepal_length   432.62\n",
       "7  petal_width/sepal_length   357.24\n",
       "3                   species    39.24"
      ]
     },
     "execution_count": 39,
     "metadata": {},
     "output_type": "execute_result"
    }
   ],
   "source": [
    "# Check for the VIF values of the feature variables. \n",
    "from statsmodels.stats.outliers_influence import variance_inflation_factor\n",
    "\n",
    "# Create a dataframe that will contain the names of all the feature variables and their respective VIFs\n",
    "\n",
    "vif = pd.DataFrame()\n",
    "vif['Features'] = X.columns\n",
    "vif['VIF'] = [variance_inflation_factor(X.values, i) for i in range(X.shape[1])]\n",
    "vif['VIF'] = round(vif['VIF'], 2)\n",
    "vif = vif.sort_values(by = \"VIF\", ascending = False)\n",
    "vif"
   ]
  },
  {
   "cell_type": "code",
   "execution_count": 40,
   "id": "520ff651",
   "metadata": {},
   "outputs": [],
   "source": [
    "from sklearn.preprocessing import StandardScaler \n",
    "scalar = StandardScaler()\n",
    "X_scaled = scalar.fit_transform(X)"
   ]
  },
  {
   "cell_type": "code",
   "execution_count": 41,
   "id": "d680eaa1",
   "metadata": {},
   "outputs": [
    {
     "data": {
      "text/html": [
       "<div>\n",
       "<style scoped>\n",
       "    .dataframe tbody tr th:only-of-type {\n",
       "        vertical-align: middle;\n",
       "    }\n",
       "\n",
       "    .dataframe tbody tr th {\n",
       "        vertical-align: top;\n",
       "    }\n",
       "\n",
       "    .dataframe thead th {\n",
       "        text-align: right;\n",
       "    }\n",
       "</style>\n",
       "<table border=\"1\" class=\"dataframe\">\n",
       "  <thead>\n",
       "    <tr style=\"text-align: right;\">\n",
       "      <th></th>\n",
       "      <th>vif</th>\n",
       "      <th>Features</th>\n",
       "    </tr>\n",
       "  </thead>\n",
       "  <tbody>\n",
       "    <tr>\n",
       "      <th>5</th>\n",
       "      <td>445.93</td>\n",
       "      <td>petal_width/species</td>\n",
       "    </tr>\n",
       "    <tr>\n",
       "      <th>7</th>\n",
       "      <td>347.12</td>\n",
       "      <td>petal_width/sepal_length</td>\n",
       "    </tr>\n",
       "    <tr>\n",
       "      <th>6</th>\n",
       "      <td>233.00</td>\n",
       "      <td>sepal_width/sepal_length</td>\n",
       "    </tr>\n",
       "    <tr>\n",
       "      <th>0</th>\n",
       "      <td>203.90</td>\n",
       "      <td>sepal_length</td>\n",
       "    </tr>\n",
       "    <tr>\n",
       "      <th>1</th>\n",
       "      <td>129.96</td>\n",
       "      <td>sepal_width</td>\n",
       "    </tr>\n",
       "    <tr>\n",
       "      <th>4</th>\n",
       "      <td>110.19</td>\n",
       "      <td>petal_length/sepal_width</td>\n",
       "    </tr>\n",
       "    <tr>\n",
       "      <th>2</th>\n",
       "      <td>90.44</td>\n",
       "      <td>petal_length</td>\n",
       "    </tr>\n",
       "    <tr>\n",
       "      <th>3</th>\n",
       "      <td>15.77</td>\n",
       "      <td>species</td>\n",
       "    </tr>\n",
       "  </tbody>\n",
       "</table>\n",
       "</div>"
      ],
      "text/plain": [
       "      vif                  Features\n",
       "5  445.93       petal_width/species\n",
       "7  347.12  petal_width/sepal_length\n",
       "6  233.00  sepal_width/sepal_length\n",
       "0  203.90              sepal_length\n",
       "1  129.96               sepal_width\n",
       "4  110.19  petal_length/sepal_width\n",
       "2   90.44              petal_length\n",
       "3   15.77                   species"
      ]
     },
     "execution_count": 41,
     "metadata": {},
     "output_type": "execute_result"
    }
   ],
   "source": [
    "\n",
    "vif = pd.DataFrame()\n",
    "vif[\"vif\"] = [variance_inflation_factor(X_scaled,i) for i in range(X_scaled.shape[1])]\n",
    "vif[\"Features\"] = X.columns\n",
    "\n",
    "#let's check the values\n",
    "vif['vif'] = round(vif['vif'], 2)\n",
    "vif = vif.sort_values(by = \"vif\", ascending = False)\n",
    "vif"
   ]
  },
  {
   "cell_type": "code",
   "execution_count": 42,
   "id": "7f5ff76c",
   "metadata": {},
   "outputs": [],
   "source": [
    "X_new = iris_df[['petal_width/species','petal_width/sepal_length','petal_length/sepal_width','petal_length','species']]"
   ]
  },
  {
   "cell_type": "code",
   "execution_count": 43,
   "id": "ba2ad016",
   "metadata": {},
   "outputs": [],
   "source": [
    "X_scaled_new = scalar.fit_transform(X_new)"
   ]
  },
  {
   "cell_type": "code",
   "execution_count": 44,
   "id": "5895430b",
   "metadata": {},
   "outputs": [
    {
     "data": {
      "text/html": [
       "<div>\n",
       "<style scoped>\n",
       "    .dataframe tbody tr th:only-of-type {\n",
       "        vertical-align: middle;\n",
       "    }\n",
       "\n",
       "    .dataframe tbody tr th {\n",
       "        vertical-align: top;\n",
       "    }\n",
       "\n",
       "    .dataframe thead th {\n",
       "        text-align: right;\n",
       "    }\n",
       "</style>\n",
       "<table border=\"1\" class=\"dataframe\">\n",
       "  <thead>\n",
       "    <tr style=\"text-align: right;\">\n",
       "      <th></th>\n",
       "      <th>vif</th>\n",
       "      <th>Features</th>\n",
       "    </tr>\n",
       "  </thead>\n",
       "  <tbody>\n",
       "    <tr>\n",
       "      <th>0</th>\n",
       "      <td>94.550864</td>\n",
       "      <td>petal_width/species</td>\n",
       "    </tr>\n",
       "    <tr>\n",
       "      <th>1</th>\n",
       "      <td>45.279990</td>\n",
       "      <td>petal_width/sepal_length</td>\n",
       "    </tr>\n",
       "    <tr>\n",
       "      <th>2</th>\n",
       "      <td>22.700967</td>\n",
       "      <td>petal_length/sepal_width</td>\n",
       "    </tr>\n",
       "    <tr>\n",
       "      <th>3</th>\n",
       "      <td>55.146247</td>\n",
       "      <td>petal_length</td>\n",
       "    </tr>\n",
       "    <tr>\n",
       "      <th>4</th>\n",
       "      <td>14.175231</td>\n",
       "      <td>species</td>\n",
       "    </tr>\n",
       "  </tbody>\n",
       "</table>\n",
       "</div>"
      ],
      "text/plain": [
       "         vif                  Features\n",
       "0  94.550864       petal_width/species\n",
       "1  45.279990  petal_width/sepal_length\n",
       "2  22.700967  petal_length/sepal_width\n",
       "3  55.146247              petal_length\n",
       "4  14.175231                   species"
      ]
     },
     "execution_count": 44,
     "metadata": {},
     "output_type": "execute_result"
    }
   ],
   "source": [
    "vif = pd.DataFrame()\n",
    "vif[\"vif\"] = [variance_inflation_factor(X_scaled_new,i) for i in range(X_scaled_new.shape[1])]\n",
    "vif[\"Features\"] = X_new.columns\n",
    "\n",
    "#let's check the values\n",
    "vif"
   ]
  },
  {
   "cell_type": "code",
   "execution_count": 45,
   "id": "eafc2655",
   "metadata": {},
   "outputs": [],
   "source": [
    "X_train= iris_df.drop(columns=[\"petal_width\",\"species\",\"sepal_length\",\"sepal_width/sepal_length\",\"sepal_width\"])\n",
    "y_train= iris_df[\"petal_width\"]"
   ]
  },
  {
   "cell_type": "code",
   "execution_count": 46,
   "id": "6e10bfe1",
   "metadata": {},
   "outputs": [
    {
     "data": {
      "text/html": [
       "<div>\n",
       "<style scoped>\n",
       "    .dataframe tbody tr th:only-of-type {\n",
       "        vertical-align: middle;\n",
       "    }\n",
       "\n",
       "    .dataframe tbody tr th {\n",
       "        vertical-align: top;\n",
       "    }\n",
       "\n",
       "    .dataframe thead th {\n",
       "        text-align: right;\n",
       "    }\n",
       "</style>\n",
       "<table border=\"1\" class=\"dataframe\">\n",
       "  <thead>\n",
       "    <tr style=\"text-align: right;\">\n",
       "      <th></th>\n",
       "      <th>petal_length</th>\n",
       "      <th>petal_length/sepal_width</th>\n",
       "      <th>petal_width/species</th>\n",
       "      <th>petal_width/sepal_length</th>\n",
       "    </tr>\n",
       "  </thead>\n",
       "  <tbody>\n",
       "    <tr>\n",
       "      <th>0</th>\n",
       "      <td>1.4</td>\n",
       "      <td>0.400000</td>\n",
       "      <td>0.001361</td>\n",
       "      <td>0.039216</td>\n",
       "    </tr>\n",
       "    <tr>\n",
       "      <th>1</th>\n",
       "      <td>1.4</td>\n",
       "      <td>0.466667</td>\n",
       "      <td>0.001361</td>\n",
       "      <td>0.040816</td>\n",
       "    </tr>\n",
       "    <tr>\n",
       "      <th>2</th>\n",
       "      <td>1.3</td>\n",
       "      <td>0.406250</td>\n",
       "      <td>0.001361</td>\n",
       "      <td>0.042553</td>\n",
       "    </tr>\n",
       "    <tr>\n",
       "      <th>3</th>\n",
       "      <td>1.5</td>\n",
       "      <td>0.483871</td>\n",
       "      <td>0.001361</td>\n",
       "      <td>0.043478</td>\n",
       "    </tr>\n",
       "    <tr>\n",
       "      <th>4</th>\n",
       "      <td>1.4</td>\n",
       "      <td>0.388889</td>\n",
       "      <td>0.001361</td>\n",
       "      <td>0.040000</td>\n",
       "    </tr>\n",
       "    <tr>\n",
       "      <th>...</th>\n",
       "      <td>...</td>\n",
       "      <td>...</td>\n",
       "      <td>...</td>\n",
       "      <td>...</td>\n",
       "    </tr>\n",
       "    <tr>\n",
       "      <th>145</th>\n",
       "      <td>5.2</td>\n",
       "      <td>1.733333</td>\n",
       "      <td>0.015646</td>\n",
       "      <td>0.343284</td>\n",
       "    </tr>\n",
       "    <tr>\n",
       "      <th>146</th>\n",
       "      <td>5.0</td>\n",
       "      <td>2.000000</td>\n",
       "      <td>0.012925</td>\n",
       "      <td>0.301587</td>\n",
       "    </tr>\n",
       "    <tr>\n",
       "      <th>147</th>\n",
       "      <td>5.2</td>\n",
       "      <td>1.733333</td>\n",
       "      <td>0.013605</td>\n",
       "      <td>0.307692</td>\n",
       "    </tr>\n",
       "    <tr>\n",
       "      <th>148</th>\n",
       "      <td>5.4</td>\n",
       "      <td>1.588235</td>\n",
       "      <td>0.015646</td>\n",
       "      <td>0.370968</td>\n",
       "    </tr>\n",
       "    <tr>\n",
       "      <th>149</th>\n",
       "      <td>5.1</td>\n",
       "      <td>1.700000</td>\n",
       "      <td>0.012245</td>\n",
       "      <td>0.305085</td>\n",
       "    </tr>\n",
       "  </tbody>\n",
       "</table>\n",
       "<p>147 rows × 4 columns</p>\n",
       "</div>"
      ],
      "text/plain": [
       "     petal_length  petal_length/sepal_width  petal_width/species  \\\n",
       "0             1.4                  0.400000             0.001361   \n",
       "1             1.4                  0.466667             0.001361   \n",
       "2             1.3                  0.406250             0.001361   \n",
       "3             1.5                  0.483871             0.001361   \n",
       "4             1.4                  0.388889             0.001361   \n",
       "..            ...                       ...                  ...   \n",
       "145           5.2                  1.733333             0.015646   \n",
       "146           5.0                  2.000000             0.012925   \n",
       "147           5.2                  1.733333             0.013605   \n",
       "148           5.4                  1.588235             0.015646   \n",
       "149           5.1                  1.700000             0.012245   \n",
       "\n",
       "     petal_width/sepal_length  \n",
       "0                    0.039216  \n",
       "1                    0.040816  \n",
       "2                    0.042553  \n",
       "3                    0.043478  \n",
       "4                    0.040000  \n",
       "..                        ...  \n",
       "145                  0.343284  \n",
       "146                  0.301587  \n",
       "147                  0.307692  \n",
       "148                  0.370968  \n",
       "149                  0.305085  \n",
       "\n",
       "[147 rows x 4 columns]"
      ]
     },
     "execution_count": 46,
     "metadata": {},
     "output_type": "execute_result"
    }
   ],
   "source": [
    "X_train"
   ]
  },
  {
   "cell_type": "markdown",
   "id": "b8e62fb8",
   "metadata": {},
   "source": [
    "# Hyperparameters tunning"
   ]
  },
  {
   "cell_type": "markdown",
   "id": "40bbddf9",
   "metadata": {},
   "source": [
    "### 1) Random Forest Regressor"
   ]
  },
  {
   "cell_type": "code",
   "execution_count": 47,
   "id": "af6525c4",
   "metadata": {},
   "outputs": [],
   "source": [
    "\n",
    "from sklearn.metrics import mean_squared_error as mse\n",
    "from sklearn.metrics import mean_absolute_error as mae\n",
    "from sklearn.metrics import r2_score"
   ]
  },
  {
   "cell_type": "code",
   "execution_count": 48,
   "id": "b6ee673a",
   "metadata": {},
   "outputs": [],
   "source": [
    "from sklearn.ensemble import RandomForestRegressor\n",
    "\n",
    "\n",
    "RandomForest_reg = RandomForestRegressor()\n",
    "\n",
    "RandomForest_reg.fit(X_train, y_train)\n",
    "\n",
    "y_pred = RandomForest_reg.predict(X_train)"
   ]
  },
  {
   "cell_type": "code",
   "execution_count": 49,
   "id": "f8126506",
   "metadata": {},
   "outputs": [
    {
     "name": "stdout",
     "output_type": "stream",
     "text": [
      "MSE of Random Forest Regressor = 4.2156462585033146e-05\n",
      "MAE of Random Forest Regressor = 0.0024829931972793853\n",
      "R2 score of Random Forest Regressor = 0.9999260340139897\n"
     ]
    }
   ],
   "source": [
    "print ('MSE of Random Forest Regressor =',mse(y_pred, y_train))\n",
    "print ('MAE of Random Forest Regressor =',mae(y_pred, y_train))\n",
    "print ('R2 score of Random Forest Regressor =',r2_score(y_pred, y_train))"
   ]
  },
  {
   "cell_type": "markdown",
   "id": "43529c5e",
   "metadata": {},
   "source": [
    "###### Grid Parameters (grid_params) for Random Forest\n",
    "max_depth ==> This parameter deals with the no. of levels in the trees, here\n",
    "              \"min_depth\": 20,\n",
    "               \"max_depth\": 25,\n",
    " \n",
    "min_samples_leaf ==> This parameter deals with the no. of data points to be allowed in the leaf nodes, here \"min_samples_per_leaf_min_value\": 5,\n",
    "            \"min_samples_per_leaf_max_value\": 10,\n",
    "\n",
    "n_estimators ==> This parameter deals with the no. of trees in the forest , here \n",
    "                 \"min_trees\": 10,\n",
    "                 \"max_trees\": 20,\n",
    "                 \n",
    "bootstrap ==> This parameter deals with the method of sampling of data points, here\n",
    "'feature_sampling_statergy': ['Default'] i.e True\n",
    "\n",
    "verbose ==>  set parallelism : 0"
   ]
  },
  {
   "cell_type": "code",
   "execution_count": 51,
   "id": "1c34a488",
   "metadata": {},
   "outputs": [
    {
     "name": "stdout",
     "output_type": "stream",
     "text": [
      "dict_keys(['bootstrap', 'ccp_alpha', 'criterion', 'max_depth', 'max_features', 'max_leaf_nodes', 'max_samples', 'min_impurity_decrease', 'min_samples_leaf', 'min_samples_split', 'min_weight_fraction_leaf', 'n_estimators', 'n_jobs', 'oob_score', 'random_state', 'verbose', 'warm_start'])\n"
     ]
    }
   ],
   "source": [
    "print(RandomForest_reg.get_params().keys())"
   ]
  },
  {
   "cell_type": "code",
   "execution_count": 52,
   "id": "4e2ffb20",
   "metadata": {},
   "outputs": [],
   "source": [
    "grid_param = {'max_depth': range(20,25)\n",
    "              ,'min_samples_leaf': range(5,10),\n",
    "              'n_estimators':[10,20],\n",
    "              #'max_features': ['auto', 'sqrt', 'log2'],\n",
    "              'bootstrap': [True],\n",
    "              'verbose': [0]\n",
    "              \n",
    "}"
   ]
  },
  {
   "cell_type": "code",
   "execution_count": 53,
   "id": "b05f7d67",
   "metadata": {},
   "outputs": [],
   "source": [
    "from sklearn.model_selection import GridSearchCV , KFold\n",
    "Random_grid_search = GridSearchCV(estimator= RandomForest_reg,\n",
    "                     param_grid=grid_param,\n",
    "                     cv= KFold(n_splits=6, random_state=1, shuffle= True ),\n",
    "                    n_jobs =-1)"
   ]
  },
  {
   "cell_type": "code",
   "execution_count": 54,
   "id": "6d497635",
   "metadata": {},
   "outputs": [
    {
     "data": {
      "text/plain": [
       "GridSearchCV(cv=KFold(n_splits=6, random_state=1, shuffle=True),\n",
       "             estimator=RandomForestRegressor(), n_jobs=-1,\n",
       "             param_grid={'bootstrap': [True], 'max_depth': range(20, 25),\n",
       "                         'min_samples_leaf': range(5, 10),\n",
       "                         'n_estimators': [10, 20], 'verbose': [0]})"
      ]
     },
     "execution_count": 54,
     "metadata": {},
     "output_type": "execute_result"
    }
   ],
   "source": [
    "Random_grid_search.fit(X_train, y_train)"
   ]
  },
  {
   "cell_type": "code",
   "execution_count": 55,
   "id": "3cf3c8ea",
   "metadata": {},
   "outputs": [
    {
     "name": "stdout",
     "output_type": "stream",
     "text": [
      "{'bootstrap': True, 'max_depth': 22, 'min_samples_leaf': 5, 'n_estimators': 20, 'verbose': 0}\n"
     ]
    }
   ],
   "source": [
    "print(Random_grid_search.best_params_)"
   ]
  },
  {
   "cell_type": "code",
   "execution_count": 56,
   "id": "14ea1144",
   "metadata": {},
   "outputs": [],
   "source": [
    "Randomreg_cv = RandomForestRegressor(bootstrap= True, max_depth= 20, min_samples_leaf= 5, n_estimators = 20)"
   ]
  },
  {
   "cell_type": "code",
   "execution_count": 57,
   "id": "b697b21c",
   "metadata": {},
   "outputs": [],
   "source": [
    "Randomreg_cv.fit(X_train,y_train)\n",
    "y_pred = Randomreg_cv.predict(X_train)"
   ]
  },
  {
   "cell_type": "code",
   "execution_count": 58,
   "id": "0b464aac",
   "metadata": {},
   "outputs": [
    {
     "name": "stdout",
     "output_type": "stream",
     "text": [
      "MSE of Random Forest Regressor Grid Search= 0.0008595518007739127\n",
      "MAE of Random Forest Regressor Grid Search = 0.01909825437162028\n",
      "R2 score of Random Forest Regressor Grid Search = 0.9984801006063517\n"
     ]
    }
   ],
   "source": [
    "print ('MSE of Random Forest Regressor Grid Search=',mse(y_pred, y_train))\n",
    "print ('MAE of Random Forest Regressor Grid Search =',mae(y_pred, y_train))\n",
    "print ('R2 score of Random Forest Regressor Grid Search =',r2_score(y_pred, y_train))"
   ]
  },
  {
   "cell_type": "markdown",
   "id": "6a71d388",
   "metadata": {},
   "source": [
    "### 2) Gradient Boosted Trees Regressor"
   ]
  },
  {
   "cell_type": "code",
   "execution_count": 349,
   "id": "877287b2",
   "metadata": {},
   "outputs": [],
   "source": [
    "from sklearn.ensemble import GradientBoostingRegressor\n",
    "\n",
    "GBT_reg = GradientBoostingRegressor()\n",
    "\n",
    "GBT_reg.fit(X_train, y_train)\n",
    "\n",
    "y_pred = GBT_reg.predict(X_train)"
   ]
  },
  {
   "cell_type": "code",
   "execution_count": 350,
   "id": "7e6f78a9",
   "metadata": {},
   "outputs": [
    {
     "name": "stdout",
     "output_type": "stream",
     "text": [
      "MSE of GBT Regressor = 2.4130513053468492e-09\n",
      "MAE of GBT Regressor = 2.8426309765562547e-05\n",
      "R2 score of GBT Regressor = 0.9999999957697688\n"
     ]
    }
   ],
   "source": [
    "print ('MSE of GBT Regressor =',mse(y_pred, y_train))\n",
    "print ('MAE of GBT Regressor =',mae(y_pred, y_train))\n",
    "print ('R2 score of GBT Regressor =',r2_score(y_pred, y_train))"
   ]
  },
  {
   "cell_type": "code",
   "execution_count": 351,
   "id": "a68ecf6a",
   "metadata": {},
   "outputs": [
    {
     "name": "stdout",
     "output_type": "stream",
     "text": [
      "{'alpha': 0.9, 'ccp_alpha': 0.0, 'criterion': 'friedman_mse', 'init': None, 'learning_rate': 0.1, 'loss': 'squared_error', 'max_depth': 3, 'max_features': None, 'max_leaf_nodes': None, 'min_impurity_decrease': 0.0, 'min_samples_leaf': 1, 'min_samples_split': 2, 'min_weight_fraction_leaf': 0.0, 'n_estimators': 100, 'n_iter_no_change': None, 'random_state': None, 'subsample': 1.0, 'tol': 0.0001, 'validation_fraction': 0.1, 'verbose': 0, 'warm_start': False}\n"
     ]
    }
   ],
   "source": [
    "print(GBT_reg.get_params())"
   ]
  },
  {
   "cell_type": "code",
   "execution_count": 352,
   "id": "280b72bc",
   "metadata": {},
   "outputs": [],
   "source": [
    "#lad represents least absolute deviation"
   ]
  },
  {
   "cell_type": "code",
   "execution_count": 353,
   "id": "8901cdd5",
   "metadata": {},
   "outputs": [],
   "source": [
    "grid_param = {'max_depth': range(5,7)\n",
    "              ,'subsample':[1,2],\n",
    "              'n_estimators':[67,89],\n",
    "              'loss':['lad'],\n",
    "              'learning_rate':[0.1,0.5],\n",
    "              'n_iter_no_change': range(20,40),\n",
    "              'verbose': [0]\n",
    "              \n",
    "}"
   ]
  },
  {
   "cell_type": "code",
   "execution_count": 354,
   "id": "376e9234",
   "metadata": {},
   "outputs": [],
   "source": [
    "from sklearn.model_selection import GridSearchCV , KFold\n",
    "GBT_grid_search = GridSearchCV(estimator= GBT_reg,\n",
    "                     param_grid=grid_param,\n",
    "                     cv= KFold(n_splits=6, random_state=1, shuffle= True ),\n",
    "                    n_jobs =-1)"
   ]
  },
  {
   "cell_type": "code",
   "execution_count": 355,
   "id": "d210077a",
   "metadata": {},
   "outputs": [
    {
     "data": {
      "text/plain": [
       "GridSearchCV(cv=KFold(n_splits=6, random_state=1, shuffle=True),\n",
       "             estimator=GradientBoostingRegressor(), n_jobs=-1,\n",
       "             param_grid={'learning_rate': [0.1, 0.5], 'loss': ['lad'],\n",
       "                         'max_depth': range(5, 7), 'n_estimators': [67, 89],\n",
       "                         'n_iter_no_change': range(20, 40), 'subsample': [1, 2],\n",
       "                         'verbose': [0]})"
      ]
     },
     "execution_count": 355,
     "metadata": {},
     "output_type": "execute_result"
    }
   ],
   "source": [
    "GBT_grid_search.fit(X_train, y_train)"
   ]
  },
  {
   "cell_type": "code",
   "execution_count": 356,
   "id": "dcdb6fc3",
   "metadata": {},
   "outputs": [
    {
     "name": "stdout",
     "output_type": "stream",
     "text": [
      "{'learning_rate': 0.1, 'loss': 'lad', 'max_depth': 6, 'n_estimators': 89, 'n_iter_no_change': 31, 'subsample': 1, 'verbose': 0}\n"
     ]
    }
   ],
   "source": [
    "print(GBT_grid_search.best_params_)"
   ]
  },
  {
   "cell_type": "code",
   "execution_count": 357,
   "id": "ed295b35",
   "metadata": {},
   "outputs": [],
   "source": [
    "GBTreg_cv = GradientBoostingRegressor(learning_rate= 0.1, loss= 'lad', max_depth= 6, n_estimators= 89,n_iter_no_change= 38, subsample= 1, verbose= 0)"
   ]
  },
  {
   "cell_type": "code",
   "execution_count": 358,
   "id": "71240875",
   "metadata": {},
   "outputs": [],
   "source": [
    "GBTreg_cv.fit(X_train,y_train)\n",
    "y_pred = GBTreg_cv.predict(X_train)"
   ]
  },
  {
   "cell_type": "code",
   "execution_count": 359,
   "id": "41337c27",
   "metadata": {},
   "outputs": [
    {
     "name": "stdout",
     "output_type": "stream",
     "text": [
      "MSE of GBT Regressor Grid Search= 0.001315957410070323\n",
      "MAE of GBT Regressor Grid Search = 0.010461915741645018\n",
      "R2 score of GBT Regressor Grid Search = 0.997610017274026\n"
     ]
    }
   ],
   "source": [
    "print ('MSE of GBT Regressor Grid Search=',mse(y_pred, y_train))\n",
    "print ('MAE of GBT Regressor Grid Search =',mae(y_pred, y_train))\n",
    "print ('R2 score of GBT Regressor Grid Search =',r2_score(y_pred, y_train))"
   ]
  },
  {
   "cell_type": "code",
   "execution_count": 361,
   "id": "b86e6c72",
   "metadata": {},
   "outputs": [
    {
     "data": {
      "text/plain": [
       "<matplotlib.collections.PathCollection at 0x29967815d30>"
      ]
     },
     "execution_count": 361,
     "metadata": {},
     "output_type": "execute_result"
    },
    {
     "data": {
      "image/png": "[encoded data removed]",
      "text/plain": [
       "<Figure size 432x288 with 1 Axes>"
      ]
     },
     "metadata": {
      "needs_background": "light"
     },
     "output_type": "display_data"
    }
   ],
   "source": [
    "plt.scatter(y_train,y_pred)"
   ]
  },
  {
   "cell_type": "markdown",
   "id": "a0d0acc2",
   "metadata": {},
   "source": [
    "### 3) Linear Regression"
   ]
  },
  {
   "cell_type": "code",
   "execution_count": 136,
   "id": "11efa8a7",
   "metadata": {},
   "outputs": [],
   "source": [
    "from sklearn.linear_model import LinearRegression\n",
    "\n",
    "lr = LinearRegression()\n",
    "\n",
    "lr.fit(X_train, y_train)\n",
    "\n",
    "y_pred = lr.predict(X_train)"
   ]
  },
  {
   "cell_type": "code",
   "execution_count": 137,
   "id": "551ee6d4",
   "metadata": {},
   "outputs": [
    {
     "name": "stdout",
     "output_type": "stream",
     "text": [
      "MSE of Linear Regression = 1.0503104807190656e-30\n",
      "MAE of Linear Regression = 7.516663028967259e-16\n",
      "R2 score of Linear Regression = 1.0\n"
     ]
    }
   ],
   "source": [
    "print ('MSE of Linear Regression =',mse(y_pred, y_train))\n",
    "print ('MAE of Linear Regression =',mae(y_pred, y_train))\n",
    "print ('R2 score of Linear Regression =',r2_score(y_pred, y_train))"
   ]
  },
  {
   "cell_type": "code",
   "execution_count": 138,
   "id": "efe006a8",
   "metadata": {},
   "outputs": [
    {
     "name": "stdout",
     "output_type": "stream",
     "text": [
      "{'copy_X': True, 'fit_intercept': True, 'n_jobs': None, 'normalize': 'deprecated', 'positive': False}\n"
     ]
    }
   ],
   "source": [
    "print(lr.get_params())"
   ]
  },
  {
   "cell_type": "markdown",
   "id": "03dee0dd",
   "metadata": {},
   "source": [
    "grid_param = {'elasticNetParam':[0.5,0.8],\n",
    "              'regParam':[0.5,0.8],\n",
    "              'fit_intercept':[True]\n",
    "              \n",
    "}"
   ]
  },
  {
   "cell_type": "markdown",
   "id": "2915f603",
   "metadata": {},
   "source": [
    "from sklearn.model_selection import GridSearchCV , KFold\n",
    "lr_grid_search = GridSearchCV(estimator= lr,\n",
    "                     param_grid=grid_param,\n",
    "                     cv= KFold(n_splits=6, random_state=1, shuffle= True ),\n",
    "                    n_jobs =-1)"
   ]
  },
  {
   "cell_type": "markdown",
   "id": "91dde15d",
   "metadata": {},
   "source": [
    "print(lr_grid_search.best_params_)"
   ]
  },
  {
   "cell_type": "markdown",
   "id": "2efcd527",
   "metadata": {},
   "source": [
    "### Ridge Regression"
   ]
  },
  {
   "cell_type": "code",
   "execution_count": 198,
   "id": "4d9c5ab4",
   "metadata": {},
   "outputs": [],
   "source": [
    "from sklearn.linear_model import Ridge\n",
    "\n",
    "Rid_reg = Ridge()\n",
    "\n",
    "Rid_reg.fit(X_train, y_train)\n",
    "\n",
    "y_pred = Rid_reg.predict(X_train)"
   ]
  },
  {
   "cell_type": "code",
   "execution_count": 199,
   "id": "c89326f4",
   "metadata": {},
   "outputs": [
    {
     "name": "stdout",
     "output_type": "stream",
     "text": [
      "MSE of Ridge Regression = 0.027902461373732892\n",
      "MAE of Ridge Regression = 0.12838046928647762\n",
      "R2 score of Ridge Regression = 0.9471643177260383\n"
     ]
    }
   ],
   "source": [
    "print ('MSE of Ridge Regression =',mse(y_pred, y_train))\n",
    "print ('MAE of Ridge Regression =',mae(y_pred, y_train))\n",
    "print ('R2 score of Ridge Regression =',r2_score(y_pred, y_train))"
   ]
  },
  {
   "cell_type": "code",
   "execution_count": 200,
   "id": "8109e21e",
   "metadata": {},
   "outputs": [
    {
     "name": "stdout",
     "output_type": "stream",
     "text": [
      "{'alpha': 1.0, 'copy_X': True, 'fit_intercept': True, 'max_iter': None, 'normalize': 'deprecated', 'positive': False, 'random_state': None, 'solver': 'auto', 'tol': 0.001}\n"
     ]
    }
   ],
   "source": [
    "print(Rid_reg.get_params())"
   ]
  },
  {
   "cell_type": "code",
   "execution_count": 201,
   "id": "36ff0a88",
   "metadata": {},
   "outputs": [],
   "source": [
    "grid_param = {'max_iter':[30,50],\n",
    "            \n",
    "              'alpha':[0.5,0.8],\n",
    "              'fit_intercept':[True]\n",
    "              \n",
    "}"
   ]
  },
  {
   "cell_type": "code",
   "execution_count": 202,
   "id": "e2f15e9b",
   "metadata": {},
   "outputs": [],
   "source": [
    "from sklearn.model_selection import GridSearchCV , KFold\n",
    "Ridreg_grid_search = GridSearchCV(estimator= Rid_reg,\n",
    "                     param_grid=grid_param,\n",
    "                     cv= KFold(n_splits=6, random_state=1, shuffle= True ),\n",
    "                    n_jobs =-1)"
   ]
  },
  {
   "cell_type": "code",
   "execution_count": 203,
   "id": "3e706b02",
   "metadata": {},
   "outputs": [
    {
     "data": {
      "text/plain": [
       "GridSearchCV(cv=KFold(n_splits=6, random_state=1, shuffle=True),\n",
       "             estimator=Ridge(), n_jobs=-1,\n",
       "             param_grid={'alpha': [0.5, 0.8], 'fit_intercept': [True],\n",
       "                         'max_iter': [30, 50]})"
      ]
     },
     "execution_count": 203,
     "metadata": {},
     "output_type": "execute_result"
    }
   ],
   "source": [
    "Ridreg_grid_search.fit(X_train, y_train)"
   ]
  },
  {
   "cell_type": "code",
   "execution_count": 204,
   "id": "60b7a960",
   "metadata": {},
   "outputs": [
    {
     "name": "stdout",
     "output_type": "stream",
     "text": [
      "{'alpha': 0.5, 'fit_intercept': True, 'max_iter': 30}\n"
     ]
    }
   ],
   "source": [
    "print(Ridreg_grid_search.best_params_)"
   ]
  },
  {
   "cell_type": "code",
   "execution_count": 205,
   "id": "8c0645b9",
   "metadata": {},
   "outputs": [],
   "source": [
    "Ridgereg_cv = Ridge(alpha=0.5, fit_intercept = True, max_iter = 30)"
   ]
  },
  {
   "cell_type": "code",
   "execution_count": 206,
   "id": "6b91c6f6",
   "metadata": {},
   "outputs": [],
   "source": [
    "Ridgereg_cv.fit(X_train,y_train)\n",
    "y_pred = Ridgereg_cv.predict(X_train)"
   ]
  },
  {
   "cell_type": "code",
   "execution_count": 207,
   "id": "c3b927b4",
   "metadata": {},
   "outputs": [
    {
     "name": "stdout",
     "output_type": "stream",
     "text": [
      "MSE of Ridge Regression = 0.021266149823727085\n",
      "MAE of Ridge Regression = 0.11187297069922665\n",
      "R2 score of Ridge Regression = 0.9600508492169225\n"
     ]
    }
   ],
   "source": [
    "print ('MSE of Ridge Regression =',mse(y_pred, y_train))\n",
    "print ('MAE of Ridge Regression =',mae(y_pred, y_train))\n",
    "print ('R2 score of Ridge Regression =',r2_score(y_pred, y_train))"
   ]
  },
  {
   "cell_type": "markdown",
   "id": "a1a578d1",
   "metadata": {},
   "source": [
    "### Lasso Regression"
   ]
  },
  {
   "cell_type": "code",
   "execution_count": 259,
   "id": "1250ad82",
   "metadata": {},
   "outputs": [],
   "source": [
    "from sklearn.linear_model import Lasso\n",
    "\n",
    "lasso_reg = Lasso()\n",
    "\n",
    "lasso_reg.fit(X_train, y_train)\n",
    "\n",
    "y_pred = lasso_reg.predict(X_train)"
   ]
  },
  {
   "cell_type": "code",
   "execution_count": 260,
   "id": "e8ed4b89",
   "metadata": {},
   "outputs": [
    {
     "name": "stdout",
     "output_type": "stream",
     "text": [
      "MSE of Lasso Regression = 0.36803074381896134\n",
      "MAE of Lasso Regression = 0.5170709757674834\n",
      "R2 score of Lasso Regression = -14.105484825469308\n"
     ]
    }
   ],
   "source": [
    "print ('MSE of Lasso Regression =',mse(y_pred, y_train))\n",
    "print ('MAE of Lasso Regression =',mae(y_pred, y_train))\n",
    "print ('R2 score of Lasso Regression =',r2_score(y_pred, y_train))"
   ]
  },
  {
   "cell_type": "code",
   "execution_count": 261,
   "id": "d5660a17",
   "metadata": {},
   "outputs": [
    {
     "name": "stdout",
     "output_type": "stream",
     "text": [
      "{'alpha': 1.0, 'copy_X': True, 'fit_intercept': True, 'max_iter': 1000, 'normalize': 'deprecated', 'positive': False, 'precompute': False, 'random_state': None, 'selection': 'cyclic', 'tol': 0.0001, 'warm_start': False}\n"
     ]
    }
   ],
   "source": [
    "print(lasso_reg.get_params())"
   ]
  },
  {
   "cell_type": "code",
   "execution_count": 266,
   "id": "94255f98",
   "metadata": {},
   "outputs": [],
   "source": [
    "grid_param = {'max_iter':[30,50],\n",
    "             'fit_intercept':[True],\n",
    "              'alpha':[0.5,0.8]\n",
    "              \n",
    "              \n",
    "}"
   ]
  },
  {
   "cell_type": "code",
   "execution_count": 267,
   "id": "1d350778",
   "metadata": {},
   "outputs": [],
   "source": [
    "from sklearn.model_selection import GridSearchCV , KFold\n",
    "Lassoreg_grid_search = GridSearchCV(estimator= lasso_reg,\n",
    "                     param_grid=grid_param,\n",
    "                     cv= KFold(n_splits=6, random_state=1, shuffle= True ),\n",
    "                    n_jobs =-1)"
   ]
  },
  {
   "cell_type": "code",
   "execution_count": 268,
   "id": "b0a86a1d",
   "metadata": {},
   "outputs": [
    {
     "data": {
      "text/plain": [
       "GridSearchCV(cv=KFold(n_splits=6, random_state=1, shuffle=True),\n",
       "             estimator=Lasso(), n_jobs=-1,\n",
       "             param_grid={'alpha': [0.5, 0.8], 'fit_intercept': [True],\n",
       "                         'max_iter': [30, 50]})"
      ]
     },
     "execution_count": 268,
     "metadata": {},
     "output_type": "execute_result"
    }
   ],
   "source": [
    "Lassoreg_grid_search.fit(X_train, y_train)"
   ]
  },
  {
   "cell_type": "code",
   "execution_count": 269,
   "id": "ba37fc73",
   "metadata": {},
   "outputs": [
    {
     "name": "stdout",
     "output_type": "stream",
     "text": [
      "{'alpha': 0.5, 'fit_intercept': True, 'max_iter': 30}\n"
     ]
    }
   ],
   "source": [
    "print(Lassoreg_grid_search.best_params_)"
   ]
  },
  {
   "cell_type": "code",
   "execution_count": 270,
   "id": "0ec9084f",
   "metadata": {},
   "outputs": [],
   "source": [
    "Lassoreg_cv = Lasso(alpha=0.5,max_iter = 30)"
   ]
  },
  {
   "cell_type": "code",
   "execution_count": 271,
   "id": "2efae57a",
   "metadata": {},
   "outputs": [],
   "source": [
    "Lassoreg_cv.fit(X_train,y_train)\n",
    "y_pred = Lassoreg_cv.predict(X_train)"
   ]
  },
  {
   "cell_type": "code",
   "execution_count": 272,
   "id": "b66a8852",
   "metadata": {},
   "outputs": [
    {
     "name": "stdout",
     "output_type": "stream",
     "text": [
      "MSE of Lasso Regression = 0.12400294466836642\n",
      "MAE of Lasso Regression = 0.2872653750453669\n",
      "R2 score of Lasso Regression = 0.36324582483969814\n"
     ]
    }
   ],
   "source": [
    "print ('MSE of Lasso Regression =',mse(y_pred, y_train))\n",
    "print ('MAE of Lasso Regression =',mae(y_pred, y_train))\n",
    "print ('R2 score of Lasso Regression =',r2_score(y_pred, y_train))"
   ]
  },
  {
   "cell_type": "markdown",
   "id": "ca58e3ed",
   "metadata": {},
   "source": [
    "### Elastic Net Regression"
   ]
  },
  {
   "cell_type": "code",
   "execution_count": 338,
   "id": "e84897e1",
   "metadata": {},
   "outputs": [],
   "source": [
    "from sklearn.linear_model import ElasticNet\n",
    "\n",
    "elastic_reg =ElasticNet()\n",
    "\n",
    "elastic_reg.fit(X_train, y_train)\n",
    "\n",
    "y_pred = elastic_reg.predict(X_train)"
   ]
  },
  {
   "cell_type": "code",
   "execution_count": 339,
   "id": "560f6eaf",
   "metadata": {},
   "outputs": [
    {
     "name": "stdout",
     "output_type": "stream",
     "text": [
      "MSE of ElasticNet Regression = 0.16303690962030512\n",
      "MAE of ElasticNet Regression = 0.3332135950029681\n",
      "R2 score of ElasticNet Regression = -0.1317487558488828\n"
     ]
    }
   ],
   "source": [
    "print ('MSE of ElasticNet Regression =',mse(y_pred, y_train))\n",
    "print ('MAE of ElasticNet Regression =',mae(y_pred, y_train))\n",
    "print ('R2 score of ElasticNet Regression =',r2_score(y_pred, y_train))"
   ]
  },
  {
   "cell_type": "code",
   "execution_count": 340,
   "id": "b84ff9ca",
   "metadata": {},
   "outputs": [
    {
     "name": "stdout",
     "output_type": "stream",
     "text": [
      "{'alpha': 1.0, 'copy_X': True, 'fit_intercept': True, 'l1_ratio': 0.5, 'max_iter': 1000, 'normalize': 'deprecated', 'positive': False, 'precompute': False, 'random_state': None, 'selection': 'cyclic', 'tol': 0.0001, 'warm_start': False}\n"
     ]
    }
   ],
   "source": [
    "print(elastic_reg.get_params())"
   ]
  },
  {
   "cell_type": "code",
   "execution_count": 341,
   "id": "f3aa86fe",
   "metadata": {},
   "outputs": [],
   "source": [
    "grid_param = {'max_iter':[30,50],\n",
    "             'l1_ratio':[0.5,0.8],\n",
    "              'alpha':[0.5,0.8],\n",
    "                      \n",
    "}"
   ]
  },
  {
   "cell_type": "code",
   "execution_count": 342,
   "id": "2db23851",
   "metadata": {},
   "outputs": [],
   "source": [
    "from sklearn.model_selection import GridSearchCV , KFold\n",
    "elasticnet_grid_search = GridSearchCV(estimator= elastic_reg,\n",
    "                     param_grid=grid_param,\n",
    "                     cv= KFold(n_splits=6, random_state=1, shuffle= True ),\n",
    "                    n_jobs =-1)"
   ]
  },
  {
   "cell_type": "code",
   "execution_count": 343,
   "id": "2b1137a0",
   "metadata": {},
   "outputs": [
    {
     "data": {
      "text/plain": [
       "GridSearchCV(cv=KFold(n_splits=6, random_state=1, shuffle=True),\n",
       "             estimator=ElasticNet(), n_jobs=-1,\n",
       "             param_grid={'alpha': [0.5, 0.8], 'l1_ratio': [0.5, 0.8],\n",
       "                         'max_iter': [30, 50]})"
      ]
     },
     "execution_count": 343,
     "metadata": {},
     "output_type": "execute_result"
    }
   ],
   "source": [
    "elasticnet_grid_search.fit(X_train, y_train)"
   ]
  },
  {
   "cell_type": "code",
   "execution_count": 344,
   "id": "c39e10ae",
   "metadata": {},
   "outputs": [
    {
     "name": "stdout",
     "output_type": "stream",
     "text": [
      "{'alpha': 0.5, 'l1_ratio': 0.5, 'max_iter': 30}\n"
     ]
    }
   ],
   "source": [
    "print(elasticnet_grid_search.best_params_)"
   ]
  },
  {
   "cell_type": "code",
   "execution_count": 345,
   "id": "8ab7c69a",
   "metadata": {},
   "outputs": [],
   "source": [
    "elasticnet_cv = ElasticNet(alpha=0.5,l1_ratio = 0.5,max_iter = 30)"
   ]
  },
  {
   "cell_type": "code",
   "execution_count": 346,
   "id": "08b29c82",
   "metadata": {},
   "outputs": [],
   "source": [
    "elasticnet_cv.fit(X_train,y_train)\n",
    "y_pred = elasticnet_cv.predict(X_train)"
   ]
  },
  {
   "cell_type": "code",
   "execution_count": 347,
   "id": "3229583c",
   "metadata": {},
   "outputs": [
    {
     "name": "stdout",
     "output_type": "stream",
     "text": [
      "MSE of ElasticNet Regression = 0.07745236277410827\n",
      "MAE of ElasticNet Regression = 0.2222494218823438\n",
      "R2 score of ElasticNet Regression = 0.7343648811878284\n"
     ]
    }
   ],
   "source": [
    "print ('MSE of ElasticNet Regression =',mse(y_pred, y_train))\n",
    "print ('MAE of ElasticNet Regression =',mae(y_pred, y_train))\n",
    "print ('R2 score of ElasticNet Regression =',r2_score(y_pred, y_train))"
   ]
  },
  {
   "cell_type": "code",
   "execution_count": 348,
   "id": "9b45af42",
   "metadata": {},
   "outputs": [
    {
     "data": {
      "text/plain": [
       "<AxesSubplot:ylabel='Density'>"
      ]
     },
     "execution_count": 348,
     "metadata": {},
     "output_type": "execute_result"
    },
    {
     "data": {
      "image/png": "[encoded data removed]",
      "text/plain": [
       "<Figure size 432x288 with 1 Axes>"
      ]
     },
     "metadata": {
      "needs_background": "light"
     },
     "output_type": "display_data"
    }
   ],
   "source": [
    "plt.scatter(y_train,y_pred)"
   ]
  },
  {
   "cell_type": "markdown",
   "id": "d4e9eb67",
   "metadata": {},
   "source": [
    "### XG Boost"
   ]
  },
  {
   "cell_type": "code",
   "execution_count": 518,
   "id": "04ce25fd",
   "metadata": {},
   "outputs": [],
   "source": [
    "import xgboost as xg\n",
    "\n",
    "xgboost_reg =xg.XGBRegressor()\n",
    "\n",
    "xgboost_reg.fit(X_train, y_train)\n",
    "\n",
    "y_pred = xgboost_reg.predict(X_train)"
   ]
  },
  {
   "cell_type": "code",
   "execution_count": 519,
   "id": "c80bff09",
   "metadata": {},
   "outputs": [
    {
     "data": {
      "text/plain": [
       "array([0.20007376, 0.20007376, 0.20007376, 0.20007376, 0.20007376,\n",
       "       0.39994076, 0.2999955 , 0.20007376, 0.20007376, 0.10053714,\n",
       "       0.20007376, 0.20007376, 0.10053714, 0.10053714, 0.20007376,\n",
       "       0.39994076, 0.39994076, 0.2999955 , 0.2999955 , 0.2999955 ,\n",
       "       0.20007376, 0.39994076, 0.20007376, 0.50006366, 0.20007376,\n",
       "       0.20007376, 0.39994076, 0.20007376, 0.20007376, 0.20007376,\n",
       "       0.20007376, 0.39994076, 0.10053714, 0.20007376, 0.20007376,\n",
       "       0.20007376, 0.20007376, 0.20007376, 0.2999955 , 0.2999955 ,\n",
       "       0.20007376, 0.59996617, 0.39994076, 0.2999955 , 0.20007376,\n",
       "       0.20007376, 0.20007376, 0.20007376, 1.400107  , 1.4994396 ,\n",
       "       1.4993601 , 1.3005463 , 1.499055  , 1.3004591 , 1.5988557 ,\n",
       "       0.9995586 , 1.3004519 , 1.39952   , 0.9995586 , 1.5006151 ,\n",
       "       0.9995586 , 1.4002819 , 1.3002403 , 1.3999909 , 1.5008286 ,\n",
       "       0.9995586 , 1.5001191 , 1.1014061 , 1.8000296 , 1.3001305 ,\n",
       "       1.5003502 , 1.1992306 , 1.3001232 , 1.3999768 , 1.400107  ,\n",
       "       1.7032933 , 1.499055  , 0.9995586 , 1.1014061 , 0.9995586 ,\n",
       "       1.1991533 , 1.5989486 , 1.5008286 , 1.5985507 , 1.4993601 ,\n",
       "       1.3004519 , 1.3002403 , 1.3001305 , 1.1996622 , 1.3999768 ,\n",
       "       1.1991533 , 0.9995586 , 1.3001305 , 1.1992631 , 1.3001305 ,\n",
       "       1.3001305 , 1.0993339 , 1.3001305 , 2.4994783 , 1.9022535 ,\n",
       "       2.1008387 , 1.8002453 , 2.1999161 , 2.0998795 , 1.7011422 ,\n",
       "       1.8001605 , 1.7990266 , 2.4994783 , 2.0001693 , 1.9006048 ,\n",
       "       2.0997274 , 1.9994782 , 2.400005  , 2.3009236 , 1.8001946 ,\n",
       "       2.2001734 , 2.3004596 , 1.4995075 , 2.2996814 , 1.9991809 ,\n",
       "       1.9998637 , 1.7996862 , 2.100383  , 1.800064  , 1.7994968 ,\n",
       "       1.8000296 , 2.100218  , 1.5993983 , 1.8999147 , 1.9996947 ,\n",
       "       2.199791  , 1.5000968 , 1.4004297 , 2.298607  , 2.3997064 ,\n",
       "       1.8000052 , 1.8000296 , 2.1010742 , 2.399928  , 2.3000774 ,\n",
       "       2.3001852 , 2.4994783 , 2.2993424 , 1.9006048 , 1.9988538 ,\n",
       "       2.2998495 , 1.7994001 ], dtype=float32)"
      ]
     },
     "execution_count": 519,
     "metadata": {},
     "output_type": "execute_result"
    }
   ],
   "source": [
    "y_pred"
   ]
  },
  {
   "cell_type": "code",
   "execution_count": 520,
   "id": "44e7f773",
   "metadata": {},
   "outputs": [
    {
     "name": "stdout",
     "output_type": "stream",
     "text": [
      "MSE of xgboost Regression = 3.4198469192394853e-07\n",
      "MAE of xgboost Regression = 0.0003716521522625719\n",
      "R2 score of xgboost Regression = 0.9999994004367033\n"
     ]
    }
   ],
   "source": [
    "print ('MSE of xgboost Regression =',mse(y_pred, y_train))\n",
    "print ('MAE of xgboost Regression =',mae(y_pred, y_train))\n",
    "print ('R2 score of xgboost Regression =',r2_score(y_pred, y_train))"
   ]
  },
  {
   "cell_type": "code",
   "execution_count": 521,
   "id": "e9e8852b",
   "metadata": {},
   "outputs": [
    {
     "name": "stdout",
     "output_type": "stream",
     "text": [
      "{'objective': 'reg:squarederror', 'base_score': 0.5, 'booster': 'gbtree', 'callbacks': None, 'colsample_bylevel': 1, 'colsample_bynode': 1, 'colsample_bytree': 1, 'early_stopping_rounds': None, 'enable_categorical': False, 'eval_metric': None, 'gamma': 0, 'gpu_id': -1, 'grow_policy': 'depthwise', 'importance_type': None, 'interaction_constraints': '', 'learning_rate': 0.300000012, 'max_bin': 256, 'max_cat_to_onehot': 4, 'max_delta_step': 0, 'max_depth': 6, 'max_leaves': 0, 'min_child_weight': 1, 'missing': nan, 'monotone_constraints': '()', 'n_estimators': 100, 'n_jobs': 0, 'num_parallel_tree': 1, 'predictor': 'auto', 'random_state': 0, 'reg_alpha': 0, 'reg_lambda': 1, 'sampling_method': 'uniform', 'scale_pos_weight': 1, 'subsample': 1, 'tree_method': 'exact', 'validate_parameters': 1, 'verbosity': None}\n"
     ]
    }
   ],
   "source": [
    "print(xgboost_reg.get_params())"
   ]
  },
  {
   "cell_type": "code",
   "execution_count": 524,
   "id": "20e9e532",
   "metadata": {},
   "outputs": [],
   "source": [
    "grid_param = {\n",
    "              'booster': ['gbtree','dart']  ,\n",
    "               'random_state': [0],\n",
    "              'colsample_bytree':[0.67],\n",
    "               'eta':[0.3],\n",
    "               'seed':[0],\n",
    "  \n",
    "               'gamma': [68.0],\n",
    "              'learning_rate': [89.0, 76.0],\n",
    "              'max_depth':[56, 89], \n",
    "             'min_child_weight': [67],\n",
    "     #'missing': [np.nan],\n",
    "              'reg_alpha': [77],\n",
    "              'reg_lambda' : [78],\n",
    "             'tree_method': ['exact','auto'],\n",
    "              'subsample': [0.67],\n",
    "              \n",
    "}"
   ]
  },
  {
   "cell_type": "code",
   "execution_count": 525,
   "id": "86bfaea1",
   "metadata": {},
   "outputs": [],
   "source": [
    "from sklearn.model_selection import GridSearchCV , KFold\n",
    "XGB_grid_search = GridSearchCV(estimator= xgboost_reg,\n",
    "                     param_grid=grid_param,\n",
    "                     cv= KFold(n_splits=6, random_state=1, shuffle= True ),\n",
    "                    n_jobs =-1)"
   ]
  },
  {
   "cell_type": "code",
   "execution_count": 526,
   "id": "016843cc",
   "metadata": {},
   "outputs": [
    {
     "data": {
      "text/plain": [
       "GridSearchCV(cv=KFold(n_splits=6, random_state=1, shuffle=True),\n",
       "             estimator=XGBRegressor(base_score=0.5, booster='gbtree',\n",
       "                                    callbacks=None, colsample_bylevel=1,\n",
       "                                    colsample_bynode=1, colsample_bytree=1,\n",
       "                                    early_stopping_rounds=None,\n",
       "                                    enable_categorical=False, eval_metric=None,\n",
       "                                    gamma=0, gpu_id=-1, grow_policy='depthwise',\n",
       "                                    importance_type=None,\n",
       "                                    interaction_constraints='',\n",
       "                                    l...\n",
       "                                    predictor='auto', random_state=0,\n",
       "                                    reg_alpha=0, reg_lambda=1, ...),\n",
       "             n_jobs=-1,\n",
       "             param_grid={'booster': ['gbtree', 'dart'],\n",
       "                         'colsample_bytree': [0.67], 'eta': [0.3],\n",
       "                         'gamma': [68.0], 'learning_rate': [89.0, 76.0],\n",
       "                         'max_depth': [56, 89], 'min_child_weight': [67],\n",
       "                         'random_state': [0], 'reg_alpha': [77],\n",
       "                         'reg_lambda': [78], 'seed': [0], 'subsample': [0.67],\n",
       "                         'tree_method': ['exact', 'auto']})"
      ]
     },
     "execution_count": 526,
     "metadata": {},
     "output_type": "execute_result"
    }
   ],
   "source": [
    "XGB_grid_search.fit(X_train, y_train)"
   ]
  },
  {
   "cell_type": "code",
   "execution_count": 527,
   "id": "e2180ee2",
   "metadata": {},
   "outputs": [
    {
     "name": "stdout",
     "output_type": "stream",
     "text": [
      "{'booster': 'gbtree', 'colsample_bytree': 0.67, 'eta': 0.3, 'gamma': 68.0, 'learning_rate': 89.0, 'max_depth': 56, 'min_child_weight': 67, 'random_state': 0, 'reg_alpha': 77, 'reg_lambda': 78, 'seed': 0, 'subsample': 0.67, 'tree_method': 'exact'}\n"
     ]
    }
   ],
   "source": [
    "print(XGB_grid_search.best_params_)"
   ]
  },
  {
   "cell_type": "code",
   "execution_count": 528,
   "id": "b15dc9d2",
   "metadata": {},
   "outputs": [],
   "source": [
    "xgboost_cv =xg.XGBRegressor(booster= 'gbtree', colsample_bytree= 0.67,eta=0.3, gamma= 68.0, learning_rate = 89.0, max_depth = 56, min_child_weight = 67, random_state= 0, reg_alpha = 77, reg_lambda = 78, subsample = 0.67, tree_method= 'exact')"
   ]
  },
  {
   "cell_type": "code",
   "execution_count": 529,
   "id": "5a14eacc",
   "metadata": {},
   "outputs": [],
   "source": [
    "xgboost_cv.fit(X_train,y_train)\n",
    "y_pred = xgboost_cv.predict(X_train)"
   ]
  },
  {
   "cell_type": "code",
   "execution_count": 530,
   "id": "00531c64",
   "metadata": {},
   "outputs": [
    {
     "data": {
      "text/plain": [
       "array([nan, nan, nan, nan, nan, nan, nan, nan, nan, nan, nan, nan, nan,\n",
       "       nan, nan, nan, nan, nan, nan, nan, nan, nan, nan, nan, nan, nan,\n",
       "       nan, nan, nan, nan, nan, nan, nan, nan, nan, nan, nan, nan, nan,\n",
       "       nan, nan, nan, nan, nan, nan, nan, nan, nan, nan, nan, nan, nan,\n",
       "       nan, nan, nan, nan, nan, nan, nan, nan, nan, nan, nan, nan, nan,\n",
       "       nan, nan, nan, nan, nan, nan, nan, nan, nan, nan, nan, nan, nan,\n",
       "       nan, nan, nan, nan, nan, nan, nan, nan, nan, nan, nan, nan, nan,\n",
       "       nan, nan, nan, nan, nan, nan, nan, nan, nan, nan, nan, nan, nan,\n",
       "       nan, nan, nan, nan, nan, nan, nan, nan, nan, nan, nan, nan, nan,\n",
       "       nan, nan, nan, nan, nan, nan, nan, nan, nan, nan, nan, nan, nan,\n",
       "       nan, nan, nan, nan, nan, nan, nan, nan, nan, nan, nan, nan, nan,\n",
       "       nan, nan, nan, nan], dtype=float32)"
      ]
     },
     "execution_count": 530,
     "metadata": {},
     "output_type": "execute_result"
    }
   ],
   "source": [
    "y_pred"
   ]
  },
  {
   "cell_type": "code",
   "execution_count": 492,
   "id": "9d0054b7",
   "metadata": {},
   "outputs": [
    {
     "data": {
      "text/plain": [
       "<matplotlib.collections.PathCollection at 0x29967679ca0>"
      ]
     },
     "execution_count": 492,
     "metadata": {},
     "output_type": "execute_result"
    },
    {
     "data": {
      "image/png": "[encoded data removed]",
      "text/plain": [
       "<Figure size 432x288 with 1 Axes>"
      ]
     },
     "metadata": {
      "needs_background": "light"
     },
     "output_type": "display_data"
    }
   ],
   "source": [
    "plt.scatter(y_train,y_pred)"
   ]
  },
  {
   "cell_type": "code",
   "execution_count": 454,
   "id": "86daa4a5",
   "metadata": {},
   "outputs": [
    {
     "ename": "ValueError",
     "evalue": "Input contains NaN, infinity or a value too large for dtype('float32').",
     "output_type": "error",
     "traceback": [
      "\u001b[1;31m---------------------------------------------------------------------------\u001b[0m",
      "\u001b[1;31mValueError\u001b[0m                                Traceback (most recent call last)",
      "Input \u001b[1;32mIn [454]\u001b[0m, in \u001b[0;36m<cell line: 1>\u001b[1;34m()\u001b[0m\n\u001b[1;32m----> 1\u001b[0m \u001b[38;5;28mprint\u001b[39m (\u001b[38;5;124m'\u001b[39m\u001b[38;5;124mMSE of xgboost Regression =\u001b[39m\u001b[38;5;124m'\u001b[39m,\u001b[43mmse\u001b[49m\u001b[43m(\u001b[49m\u001b[43my_pred\u001b[49m\u001b[43m,\u001b[49m\u001b[43m \u001b[49m\u001b[43my_train\u001b[49m\u001b[43m)\u001b[49m)\n\u001b[0;32m      2\u001b[0m \u001b[38;5;28mprint\u001b[39m (\u001b[38;5;124m'\u001b[39m\u001b[38;5;124mMAE of xgboost Regression =\u001b[39m\u001b[38;5;124m'\u001b[39m,mae(y_pred, y_train))\n\u001b[0;32m      3\u001b[0m \u001b[38;5;28mprint\u001b[39m (\u001b[38;5;124m'\u001b[39m\u001b[38;5;124mR2 score of xgboost Regression =\u001b[39m\u001b[38;5;124m'\u001b[39m,r2_score(y_pred, y_train))\n",
      "File \u001b[1;32m~\\anaconda3\\lib\\site-packages\\sklearn\\metrics\\_regression.py:438\u001b[0m, in \u001b[0;36mmean_squared_error\u001b[1;34m(y_true, y_pred, sample_weight, multioutput, squared)\u001b[0m\n\u001b[0;32m    378\u001b[0m \u001b[38;5;28;01mdef\u001b[39;00m \u001b[38;5;21mmean_squared_error\u001b[39m(\n\u001b[0;32m    379\u001b[0m     y_true, y_pred, \u001b[38;5;241m*\u001b[39m, sample_weight\u001b[38;5;241m=\u001b[39m\u001b[38;5;28;01mNone\u001b[39;00m, multioutput\u001b[38;5;241m=\u001b[39m\u001b[38;5;124m\"\u001b[39m\u001b[38;5;124muniform_average\u001b[39m\u001b[38;5;124m\"\u001b[39m, squared\u001b[38;5;241m=\u001b[39m\u001b[38;5;28;01mTrue\u001b[39;00m\n\u001b[0;32m    380\u001b[0m ):\n\u001b[0;32m    381\u001b[0m     \u001b[38;5;124;03m\"\"\"Mean squared error regression loss.\u001b[39;00m\n\u001b[0;32m    382\u001b[0m \n\u001b[0;32m    383\u001b[0m \u001b[38;5;124;03m    Read more in the :ref:`User Guide <mean_squared_error>`.\u001b[39;00m\n\u001b[1;32m   (...)\u001b[0m\n\u001b[0;32m    436\u001b[0m \u001b[38;5;124;03m    0.825...\u001b[39;00m\n\u001b[0;32m    437\u001b[0m \u001b[38;5;124;03m    \"\"\"\u001b[39;00m\n\u001b[1;32m--> 438\u001b[0m     y_type, y_true, y_pred, multioutput \u001b[38;5;241m=\u001b[39m \u001b[43m_check_reg_targets\u001b[49m\u001b[43m(\u001b[49m\n\u001b[0;32m    439\u001b[0m \u001b[43m        \u001b[49m\u001b[43my_true\u001b[49m\u001b[43m,\u001b[49m\u001b[43m \u001b[49m\u001b[43my_pred\u001b[49m\u001b[43m,\u001b[49m\u001b[43m \u001b[49m\u001b[43mmultioutput\u001b[49m\n\u001b[0;32m    440\u001b[0m \u001b[43m    \u001b[49m\u001b[43m)\u001b[49m\n\u001b[0;32m    441\u001b[0m     check_consistent_length(y_true, y_pred, sample_weight)\n\u001b[0;32m    442\u001b[0m     output_errors \u001b[38;5;241m=\u001b[39m np\u001b[38;5;241m.\u001b[39maverage((y_true \u001b[38;5;241m-\u001b[39m y_pred) \u001b[38;5;241m*\u001b[39m\u001b[38;5;241m*\u001b[39m \u001b[38;5;241m2\u001b[39m, axis\u001b[38;5;241m=\u001b[39m\u001b[38;5;241m0\u001b[39m, weights\u001b[38;5;241m=\u001b[39msample_weight)\n",
      "File \u001b[1;32m~\\anaconda3\\lib\\site-packages\\sklearn\\metrics\\_regression.py:95\u001b[0m, in \u001b[0;36m_check_reg_targets\u001b[1;34m(y_true, y_pred, multioutput, dtype)\u001b[0m\n\u001b[0;32m     61\u001b[0m \u001b[38;5;124;03m\"\"\"Check that y_true and y_pred belong to the same regression task.\u001b[39;00m\n\u001b[0;32m     62\u001b[0m \n\u001b[0;32m     63\u001b[0m \u001b[38;5;124;03mParameters\u001b[39;00m\n\u001b[1;32m   (...)\u001b[0m\n\u001b[0;32m     92\u001b[0m \u001b[38;5;124;03m    the dtype argument passed to check_array.\u001b[39;00m\n\u001b[0;32m     93\u001b[0m \u001b[38;5;124;03m\"\"\"\u001b[39;00m\n\u001b[0;32m     94\u001b[0m check_consistent_length(y_true, y_pred)\n\u001b[1;32m---> 95\u001b[0m y_true \u001b[38;5;241m=\u001b[39m \u001b[43mcheck_array\u001b[49m\u001b[43m(\u001b[49m\u001b[43my_true\u001b[49m\u001b[43m,\u001b[49m\u001b[43m \u001b[49m\u001b[43mensure_2d\u001b[49m\u001b[38;5;241;43m=\u001b[39;49m\u001b[38;5;28;43;01mFalse\u001b[39;49;00m\u001b[43m,\u001b[49m\u001b[43m \u001b[49m\u001b[43mdtype\u001b[49m\u001b[38;5;241;43m=\u001b[39;49m\u001b[43mdtype\u001b[49m\u001b[43m)\u001b[49m\n\u001b[0;32m     96\u001b[0m y_pred \u001b[38;5;241m=\u001b[39m check_array(y_pred, ensure_2d\u001b[38;5;241m=\u001b[39m\u001b[38;5;28;01mFalse\u001b[39;00m, dtype\u001b[38;5;241m=\u001b[39mdtype)\n\u001b[0;32m     98\u001b[0m \u001b[38;5;28;01mif\u001b[39;00m y_true\u001b[38;5;241m.\u001b[39mndim \u001b[38;5;241m==\u001b[39m \u001b[38;5;241m1\u001b[39m:\n",
      "File \u001b[1;32m~\\anaconda3\\lib\\site-packages\\sklearn\\utils\\validation.py:800\u001b[0m, in \u001b[0;36mcheck_array\u001b[1;34m(array, accept_sparse, accept_large_sparse, dtype, order, copy, force_all_finite, ensure_2d, allow_nd, ensure_min_samples, ensure_min_features, estimator)\u001b[0m\n\u001b[0;32m    794\u001b[0m         \u001b[38;5;28;01mraise\u001b[39;00m \u001b[38;5;167;01mValueError\u001b[39;00m(\n\u001b[0;32m    795\u001b[0m             \u001b[38;5;124m\"\u001b[39m\u001b[38;5;124mFound array with dim \u001b[39m\u001b[38;5;132;01m%d\u001b[39;00m\u001b[38;5;124m. \u001b[39m\u001b[38;5;132;01m%s\u001b[39;00m\u001b[38;5;124m expected <= 2.\u001b[39m\u001b[38;5;124m\"\u001b[39m\n\u001b[0;32m    796\u001b[0m             \u001b[38;5;241m%\u001b[39m (array\u001b[38;5;241m.\u001b[39mndim, estimator_name)\n\u001b[0;32m    797\u001b[0m         )\n\u001b[0;32m    799\u001b[0m     \u001b[38;5;28;01mif\u001b[39;00m force_all_finite:\n\u001b[1;32m--> 800\u001b[0m         \u001b[43m_assert_all_finite\u001b[49m\u001b[43m(\u001b[49m\u001b[43marray\u001b[49m\u001b[43m,\u001b[49m\u001b[43m \u001b[49m\u001b[43mallow_nan\u001b[49m\u001b[38;5;241;43m=\u001b[39;49m\u001b[43mforce_all_finite\u001b[49m\u001b[43m \u001b[49m\u001b[38;5;241;43m==\u001b[39;49m\u001b[43m \u001b[49m\u001b[38;5;124;43m\"\u001b[39;49m\u001b[38;5;124;43mallow-nan\u001b[39;49m\u001b[38;5;124;43m\"\u001b[39;49m\u001b[43m)\u001b[49m\n\u001b[0;32m    802\u001b[0m \u001b[38;5;28;01mif\u001b[39;00m ensure_min_samples \u001b[38;5;241m>\u001b[39m \u001b[38;5;241m0\u001b[39m:\n\u001b[0;32m    803\u001b[0m     n_samples \u001b[38;5;241m=\u001b[39m _num_samples(array)\n",
      "File \u001b[1;32m~\\anaconda3\\lib\\site-packages\\sklearn\\utils\\validation.py:114\u001b[0m, in \u001b[0;36m_assert_all_finite\u001b[1;34m(X, allow_nan, msg_dtype)\u001b[0m\n\u001b[0;32m    107\u001b[0m     \u001b[38;5;28;01mif\u001b[39;00m (\n\u001b[0;32m    108\u001b[0m         allow_nan\n\u001b[0;32m    109\u001b[0m         \u001b[38;5;129;01mand\u001b[39;00m np\u001b[38;5;241m.\u001b[39misinf(X)\u001b[38;5;241m.\u001b[39many()\n\u001b[0;32m    110\u001b[0m         \u001b[38;5;129;01mor\u001b[39;00m \u001b[38;5;129;01mnot\u001b[39;00m allow_nan\n\u001b[0;32m    111\u001b[0m         \u001b[38;5;129;01mand\u001b[39;00m \u001b[38;5;129;01mnot\u001b[39;00m np\u001b[38;5;241m.\u001b[39misfinite(X)\u001b[38;5;241m.\u001b[39mall()\n\u001b[0;32m    112\u001b[0m     ):\n\u001b[0;32m    113\u001b[0m         type_err \u001b[38;5;241m=\u001b[39m \u001b[38;5;124m\"\u001b[39m\u001b[38;5;124minfinity\u001b[39m\u001b[38;5;124m\"\u001b[39m \u001b[38;5;28;01mif\u001b[39;00m allow_nan \u001b[38;5;28;01melse\u001b[39;00m \u001b[38;5;124m\"\u001b[39m\u001b[38;5;124mNaN, infinity\u001b[39m\u001b[38;5;124m\"\u001b[39m\n\u001b[1;32m--> 114\u001b[0m         \u001b[38;5;28;01mraise\u001b[39;00m \u001b[38;5;167;01mValueError\u001b[39;00m(\n\u001b[0;32m    115\u001b[0m             msg_err\u001b[38;5;241m.\u001b[39mformat(\n\u001b[0;32m    116\u001b[0m                 type_err, msg_dtype \u001b[38;5;28;01mif\u001b[39;00m msg_dtype \u001b[38;5;129;01mis\u001b[39;00m \u001b[38;5;129;01mnot\u001b[39;00m \u001b[38;5;28;01mNone\u001b[39;00m \u001b[38;5;28;01melse\u001b[39;00m X\u001b[38;5;241m.\u001b[39mdtype\n\u001b[0;32m    117\u001b[0m             )\n\u001b[0;32m    118\u001b[0m         )\n\u001b[0;32m    119\u001b[0m \u001b[38;5;66;03m# for object dtype data, we only check for NaNs (GH-13254)\u001b[39;00m\n\u001b[0;32m    120\u001b[0m \u001b[38;5;28;01melif\u001b[39;00m X\u001b[38;5;241m.\u001b[39mdtype \u001b[38;5;241m==\u001b[39m np\u001b[38;5;241m.\u001b[39mdtype(\u001b[38;5;124m\"\u001b[39m\u001b[38;5;124mobject\u001b[39m\u001b[38;5;124m\"\u001b[39m) \u001b[38;5;129;01mand\u001b[39;00m \u001b[38;5;129;01mnot\u001b[39;00m allow_nan:\n",
      "\u001b[1;31mValueError\u001b[0m: Input contains NaN, infinity or a value too large for dtype('float32')."
     ]
    }
   ],
   "source": [
    "print ('MSE of xgboost Regression =',mse(y_pred, y_train))\n",
    "print ('MAE of xgboost Regression =',mae(y_pred, y_train))\n",
    "print ('R2 score of xgboost Regression =',r2_score(y_pred, y_train))"
   ]
  },
  {
   "cell_type": "code",
   "execution_count": null,
   "id": "9fd0f422",
   "metadata": {},
   "outputs": [],
   "source": []
  },
  {
   "cell_type": "markdown",
   "id": "68bcd7d0",
   "metadata": {},
   "source": [
    "### Decision Tree Regressor"
   ]
  },
  {
   "cell_type": "code",
   "execution_count": 313,
   "id": "283c789e",
   "metadata": {},
   "outputs": [],
   "source": [
    "from sklearn.tree import DecisionTreeRegressor\n",
    "\n",
    "dectree_reg = DecisionTreeRegressor()\n",
    "\n",
    "dectree_reg.fit(X_train, y_train)\n",
    "\n",
    "y_pred = dectree_reg.predict(X_train)"
   ]
  },
  {
   "cell_type": "code",
   "execution_count": 314,
   "id": "5ede6ede",
   "metadata": {},
   "outputs": [
    {
     "name": "stdout",
     "output_type": "stream",
     "text": [
      "MSE of Decision Tree Regression = 3.4671979624669257e-32\n",
      "MAE of Decision Tree Regression = 1.0762366055039782e-16\n",
      "R2 score of Decision Tree Regression = 1.0\n"
     ]
    }
   ],
   "source": [
    "print ('MSE of Decision Tree Regression =',mse(y_pred, y_train))\n",
    "print ('MAE of Decision Tree Regression =',mae(y_pred, y_train))\n",
    "print ('R2 score of Decision Tree Regression =',r2_score(y_pred, y_train))"
   ]
  },
  {
   "cell_type": "code",
   "execution_count": 315,
   "id": "bf90c73e",
   "metadata": {},
   "outputs": [
    {
     "name": "stdout",
     "output_type": "stream",
     "text": [
      "{'ccp_alpha': 0.0, 'criterion': 'squared_error', 'max_depth': None, 'max_features': None, 'max_leaf_nodes': None, 'min_impurity_decrease': 0.0, 'min_samples_leaf': 1, 'min_samples_split': 2, 'min_weight_fraction_leaf': 0.0, 'random_state': None, 'splitter': 'best'}\n"
     ]
    }
   ],
   "source": [
    "print(dectree_reg.get_params())"
   ]
  },
  {
   "cell_type": "code",
   "execution_count": 362,
   "id": "9372de0b",
   "metadata": {},
   "outputs": [],
   "source": [
    "grid_param = {'criterion': ['mse'],\n",
    "             'max_depth':[4,7],\n",
    "             'min_samples_leaf':[12,6],\n",
    "             'splitter': ['best','random']\n",
    "                      \n",
    "}"
   ]
  },
  {
   "cell_type": "code",
   "execution_count": 363,
   "id": "c1aa8863",
   "metadata": {},
   "outputs": [],
   "source": [
    "from sklearn.model_selection import GridSearchCV , KFold\n",
    "DTR_grid_search = GridSearchCV(estimator= dectree_reg,\n",
    "                     param_grid=grid_param,\n",
    "                     cv= KFold(n_splits=6, random_state=1, shuffle= True ),\n",
    "                    n_jobs =-1)"
   ]
  },
  {
   "cell_type": "code",
   "execution_count": 364,
   "id": "cc98113a",
   "metadata": {},
   "outputs": [
    {
     "data": {
      "text/plain": [
       "GridSearchCV(cv=KFold(n_splits=6, random_state=1, shuffle=True),\n",
       "             estimator=DecisionTreeRegressor(), n_jobs=-1,\n",
       "             param_grid={'criterion': ['mse'], 'max_depth': [4, 7],\n",
       "                         'min_samples_leaf': [12, 6],\n",
       "                         'splitter': ['best', 'random']})"
      ]
     },
     "execution_count": 364,
     "metadata": {},
     "output_type": "execute_result"
    }
   ],
   "source": [
    "DTR_grid_search.fit(X_train, y_train)"
   ]
  },
  {
   "cell_type": "code",
   "execution_count": 365,
   "id": "fab3ad49",
   "metadata": {},
   "outputs": [
    {
     "name": "stdout",
     "output_type": "stream",
     "text": [
      "{'criterion': 'mse', 'max_depth': 4, 'min_samples_leaf': 6, 'splitter': 'best'}\n"
     ]
    }
   ],
   "source": [
    "print(DTR_grid_search.best_params_)"
   ]
  },
  {
   "cell_type": "code",
   "execution_count": 366,
   "id": "22ed989f",
   "metadata": {},
   "outputs": [],
   "source": [
    "DTR_cv = DecisionTreeRegressor(criterion = 'mse', max_depth = 4, min_samples_leaf = 6, splitter = 'best')"
   ]
  },
  {
   "cell_type": "code",
   "execution_count": 367,
   "id": "07ff2a3c",
   "metadata": {},
   "outputs": [],
   "source": [
    "DTR_cv.fit(X_train,y_train)\n",
    "y_pred = DTR_cv.predict(X_train)"
   ]
  },
  {
   "cell_type": "code",
   "execution_count": 368,
   "id": "48f9210a",
   "metadata": {},
   "outputs": [
    {
     "name": "stdout",
     "output_type": "stream",
     "text": [
      "MSE of Decision Tree Regression = 0.0021000161969549733\n",
      "MAE of Decision Tree Regression = 0.03419339164237124\n",
      "R2 score of Decision Tree Regression = 0.9963051691663877\n"
     ]
    }
   ],
   "source": [
    "print ('MSE of Decision Tree Regression =',mse(y_pred, y_train))\n",
    "print ('MAE of Decision Tree Regression =',mae(y_pred, y_train))\n",
    "print ('R2 score of Decision Tree Regression =',r2_score(y_pred, y_train))"
   ]
  },
  {
   "cell_type": "code",
   "execution_count": 370,
   "id": "08dd559d",
   "metadata": {},
   "outputs": [
    {
     "data": {
      "text/plain": [
       "<matplotlib.collections.PathCollection at 0x299688a21c0>"
      ]
     },
     "execution_count": 370,
     "metadata": {},
     "output_type": "execute_result"
    },
    {
     "data": {
      "image/png": "[encoded data removed]",
      "text/plain": [
       "<Figure size 432x288 with 1 Axes>"
      ]
     },
     "metadata": {
      "needs_background": "light"
     },
     "output_type": "display_data"
    }
   ],
   "source": [
    "plt.scatter(y_train,y_pred)"
   ]
  },
  {
   "cell_type": "markdown",
   "id": "869458c7",
   "metadata": {},
   "source": [
    "### Support Vector Machine"
   ]
  },
  {
   "cell_type": "code",
   "execution_count": 383,
   "id": "93a98213",
   "metadata": {},
   "outputs": [],
   "source": [
    "from sklearn import svm\n",
    "\n",
    "SVM_reg = svm.SVR()\n",
    "\n",
    "SVM_reg.fit(X_train, y_train)\n",
    "\n",
    "y_pred = SVM_reg.predict(X_train)"
   ]
  },
  {
   "cell_type": "code",
   "execution_count": 384,
   "id": "7375684c",
   "metadata": {},
   "outputs": [
    {
     "name": "stdout",
     "output_type": "stream",
     "text": [
      "MSE of SVM Regression = 0.030450981584793195\n",
      "MAE of SVM Regression = 0.13730051583873343\n",
      "R2 score of SVM Regression = 0.940481798577655\n"
     ]
    }
   ],
   "source": [
    "print ('MSE of SVM Regression =',mse(y_pred, y_train))\n",
    "print ('MAE of SVM Regression =',mae(y_pred, y_train))\n",
    "print ('R2 score of SVM Regression =',r2_score(y_pred, y_train))"
   ]
  },
  {
   "cell_type": "code",
   "execution_count": 385,
   "id": "25eca558",
   "metadata": {},
   "outputs": [
    {
     "name": "stdout",
     "output_type": "stream",
     "text": [
      "{'C': 1.0, 'cache_size': 200, 'coef0': 0.0, 'degree': 3, 'epsilon': 0.1, 'gamma': 'scale', 'kernel': 'rbf', 'max_iter': -1, 'shrinking': True, 'tol': 0.001, 'verbose': False}\n"
     ]
    }
   ],
   "source": [
    "print(SVM_reg.get_params())"
   ]
  },
  {
   "cell_type": "code",
   "execution_count": 388,
   "id": "a694e8bc",
   "metadata": {},
   "outputs": [],
   "source": [
    "grid_param = {'C': [566.0, 79.0],\n",
    "              'gamma': [ 'scale','auto'],\n",
    "              'degree': [3],\n",
    "              'kernel': ['linear', 'poly', 'rbf', 'sigmoid'],\n",
    "             'max_iter':[7],\n",
    "             'tol':[7]\n",
    "            \n",
    "                      \n",
    "}"
   ]
  },
  {
   "cell_type": "code",
   "execution_count": 389,
   "id": "5dbf7ed6",
   "metadata": {},
   "outputs": [],
   "source": [
    "from sklearn.model_selection import GridSearchCV , KFold\n",
    "SVM_grid_search = GridSearchCV(estimator= SVM_reg,\n",
    "                     param_grid=grid_param,\n",
    "                     cv= KFold(n_splits=6, random_state=1, shuffle= True ),\n",
    "                    n_jobs =-1)"
   ]
  },
  {
   "cell_type": "code",
   "execution_count": 390,
   "id": "5cc6ca74",
   "metadata": {},
   "outputs": [
    {
     "data": {
      "text/plain": [
       "GridSearchCV(cv=KFold(n_splits=6, random_state=1, shuffle=True),\n",
       "             estimator=SVR(), n_jobs=-1,\n",
       "             param_grid={'C': [566.0, 79.0], 'degree': [3],\n",
       "                         'gamma': ['scale', 'auto'],\n",
       "                         'kernel': ['linear', 'poly', 'rbf', 'sigmoid'],\n",
       "                         'max_iter': [7], 'tol': [7]})"
      ]
     },
     "execution_count": 390,
     "metadata": {},
     "output_type": "execute_result"
    }
   ],
   "source": [
    "SVM_grid_search.fit(X_train, y_train)"
   ]
  },
  {
   "cell_type": "code",
   "execution_count": 391,
   "id": "e4bb7ccd",
   "metadata": {},
   "outputs": [
    {
     "name": "stdout",
     "output_type": "stream",
     "text": [
      "{'C': 566.0, 'degree': 3, 'gamma': 'scale', 'kernel': 'linear', 'max_iter': 7, 'tol': 7}\n"
     ]
    }
   ],
   "source": [
    "print(SVM_grid_search.best_params_)"
   ]
  },
  {
   "cell_type": "code",
   "execution_count": 392,
   "id": "29b965c2",
   "metadata": {},
   "outputs": [],
   "source": [
    "SVM_cv = svm.SVR(C = 566.0, degree = 3,gamma = 'scale', kernel = 'linear', max_iter = 7, tol = 7)"
   ]
  },
  {
   "cell_type": "code",
   "execution_count": 393,
   "id": "1b10e348",
   "metadata": {},
   "outputs": [],
   "source": [
    "SVM_cv.fit(X_train,y_train)\n",
    "y_pred = SVM_cv.predict(X_train)"
   ]
  },
  {
   "cell_type": "code",
   "execution_count": 394,
   "id": "279486e6",
   "metadata": {},
   "outputs": [
    {
     "name": "stdout",
     "output_type": "stream",
     "text": [
      "MSE of SVM Regression = 0.5787755102040816\n",
      "MAE of SVM Regression = 0.638095238095238\n",
      "R2 score of SVM Regression = 0.0\n"
     ]
    }
   ],
   "source": [
    "print ('MSE of SVM Regression =',mse(y_pred, y_train))\n",
    "print ('MAE of SVM Regression =',mae(y_pred, y_train))\n",
    "print ('R2 score of SVM Regression =',r2_score(y_pred, y_train))"
   ]
  },
  {
   "cell_type": "code",
   "execution_count": 395,
   "id": "6c33dc4b",
   "metadata": {},
   "outputs": [
    {
     "data": {
      "text/plain": [
       "<matplotlib.collections.PathCollection at 0x299689aceb0>"
      ]
     },
     "execution_count": 395,
     "metadata": {},
     "output_type": "execute_result"
    },
    {
     "data": {
      "image/png": "[encoded data removed]",
      "text/plain": [
       "<Figure size 432x288 with 1 Axes>"
      ]
     },
     "metadata": {
      "needs_background": "light"
     },
     "output_type": "display_data"
    }
   ],
   "source": [
    "plt.scatter(y_train,y_pred)"
   ]
  },
  {
   "cell_type": "markdown",
   "id": "853141cf",
   "metadata": {},
   "source": [
    "### Stochastic Gradient Descent"
   ]
  },
  {
   "cell_type": "code",
   "execution_count": 507,
   "id": "022aa941",
   "metadata": {},
   "outputs": [],
   "source": [
    "from sklearn.linear_model import SGDRegressor\n",
    "\n",
    "SGD_reg = SGDRegressor()\n",
    "\n",
    "SGD_reg.fit(X_train, y_train)\n",
    "\n",
    "y_pred = SGD_reg.predict(X_train)"
   ]
  },
  {
   "cell_type": "code",
   "execution_count": 508,
   "id": "b3edeb33",
   "metadata": {},
   "outputs": [
    {
     "name": "stdout",
     "output_type": "stream",
     "text": [
      "MSE of SGD Regression = 0.048637189750922454\n",
      "MAE of SGD Regression = 0.17872557089433033\n",
      "R2 score of SGD Regression = 0.8880191656293537\n"
     ]
    }
   ],
   "source": [
    "print ('MSE of SGD Regression =',mse(y_pred, y_train))\n",
    "print ('MAE of SGD Regression =',mae(y_pred, y_train))\n",
    "print ('R2 score of SGD Regression =',r2_score(y_pred, y_train))"
   ]
  },
  {
   "cell_type": "code",
   "execution_count": 509,
   "id": "bae97f66",
   "metadata": {},
   "outputs": [
    {
     "name": "stdout",
     "output_type": "stream",
     "text": [
      "{'alpha': 0.0001, 'average': False, 'early_stopping': False, 'epsilon': 0.1, 'eta0': 0.01, 'fit_intercept': True, 'l1_ratio': 0.15, 'learning_rate': 'invscaling', 'loss': 'squared_error', 'max_iter': 1000, 'n_iter_no_change': 5, 'penalty': 'l2', 'power_t': 0.25, 'random_state': None, 'shuffle': True, 'tol': 0.001, 'validation_fraction': 0.1, 'verbose': 0, 'warm_start': False}\n"
     ]
    }
   ],
   "source": [
    "print(SGD_reg.get_params())"
   ]
  },
  {
   "cell_type": "code",
   "execution_count": null,
   "id": "0597e97f",
   "metadata": {},
   "outputs": [],
   "source": [
    "grid_param = {\n",
    "              'alpha':[79,56],\n",
    "             'tol':[56]\n",
    "            \n",
    "                      \n",
    "}"
   ]
  },
  {
   "cell_type": "code",
   "execution_count": null,
   "id": "d377e221",
   "metadata": {},
   "outputs": [],
   "source": [
    "from sklearn.model_selection import GridSearchCV , KFold\n",
    "SVM_grid_search = GridSearchCV(estimator= SGD_reg,\n",
    "                     param_grid=grid_param,\n",
    "                     cv= KFold(n_splits=6, random_state=1, shuffle= True ),\n",
    "                    n_jobs =-1)"
   ]
  },
  {
   "cell_type": "code",
   "execution_count": null,
   "id": "4a9599eb",
   "metadata": {},
   "outputs": [],
   "source": [
    "SVM_grid_search.fit(X_train, y_train)"
   ]
  },
  {
   "cell_type": "code",
   "execution_count": null,
   "id": "2953903c",
   "metadata": {},
   "outputs": [],
   "source": []
  },
  {
   "cell_type": "code",
   "execution_count": null,
   "id": "4573d89f",
   "metadata": {},
   "outputs": [],
   "source": []
  },
  {
   "cell_type": "markdown",
   "id": "4c073201",
   "metadata": {},
   "source": [
    "### KNN Regressor"
   ]
  },
  {
   "cell_type": "code",
   "execution_count": 628,
   "id": "ac8f89c6",
   "metadata": {},
   "outputs": [],
   "source": [
    "from sklearn.neighbors import KNeighborsRegressor\n",
    "\n",
    "KNN_reg = KNeighborsRegressor()\n",
    "\n",
    "KNN_reg.fit(X_train, y_train)\n",
    "\n",
    "y_pred = KNN_reg.predict(X_train)"
   ]
  },
  {
   "cell_type": "code",
   "execution_count": 629,
   "id": "8fef3097",
   "metadata": {},
   "outputs": [
    {
     "name": "stdout",
     "output_type": "stream",
     "text": [
      "MSE of KNN Regression = 0.020995918367346943\n",
      "MAE of KNN Regression = 0.10965986394557821\n",
      "R2 score of KNN Regression = 0.961574496663212\n"
     ]
    }
   ],
   "source": [
    "print ('MSE of KNN Regression =',mse(y_pred, y_train))\n",
    "print ('MAE of KNN Regression =',mae(y_pred, y_train))\n",
    "print ('R2 score of KNN Regression =',r2_score(y_pred, y_train))"
   ]
  },
  {
   "cell_type": "code",
   "execution_count": 630,
   "id": "9a4f854c",
   "metadata": {},
   "outputs": [
    {
     "name": "stdout",
     "output_type": "stream",
     "text": [
      "{'algorithm': 'auto', 'leaf_size': 30, 'metric': 'minkowski', 'metric_params': None, 'n_jobs': None, 'n_neighbors': 5, 'p': 2, 'weights': 'uniform'}\n"
     ]
    }
   ],
   "source": [
    "print(KNN_reg.get_params())"
   ]
  },
  {
   "cell_type": "code",
   "execution_count": 659,
   "id": "8ddbbc39",
   "metadata": {},
   "outputs": [],
   "source": [
    "KNN_cv = KNeighborsRegressor(algorithm = 'auto',n_neighbors = 78,weights = 'distance')"
   ]
  },
  {
   "cell_type": "code",
   "execution_count": 660,
   "id": "17795ccd",
   "metadata": {},
   "outputs": [],
   "source": [
    "KNN_cv.fit(X_train,y_train)\n",
    "y_pred = KNN_cv.predict(X_train)"
   ]
  },
  {
   "cell_type": "code",
   "execution_count": 661,
   "id": "f691d522",
   "metadata": {},
   "outputs": [
    {
     "name": "stdout",
     "output_type": "stream",
     "text": [
      "MSE of KNN Regression = 1.262740518133016e-12\n",
      "MAE of KNN Regression = 2.8645806422198717e-07\n",
      "R2 score of KNN Regression = 0.9999999999977864\n"
     ]
    }
   ],
   "source": [
    "print ('MSE of KNN Regression =',mse(y_pred, y_train))\n",
    "print ('MAE of KNN Regression =',mae(y_pred, y_train))\n",
    "print ('R2 score of KNN Regression =',r2_score(y_pred, y_train))"
   ]
  },
  {
   "cell_type": "code",
   "execution_count": 662,
   "id": "de196fd4",
   "metadata": {},
   "outputs": [
    {
     "data": {
      "text/plain": [
       "<matplotlib.collections.PathCollection at 0x299696e1d00>"
      ]
     },
     "execution_count": 662,
     "metadata": {},
     "output_type": "execute_result"
    },
    {
     "data": {
      "image/png": "[encoded data removed]",
      "text/plain": [
       "<Figure size 432x288 with 1 Axes>"
      ]
     },
     "metadata": {
      "needs_background": "light"
     },
     "output_type": "display_data"
    }
   ],
   "source": [
    "plt.scatter(y_train,y_pred)"
   ]
  },
  {
   "cell_type": "markdown",
   "id": "1d695b22",
   "metadata": {},
   "source": [
    "### Extra Random Trees"
   ]
  },
  {
   "cell_type": "code",
   "execution_count": 665,
   "id": "f4332415",
   "metadata": {},
   "outputs": [],
   "source": [
    "from sklearn.ensemble import ExtraTreesRegressor\n",
    "\n",
    "ExtraRT = ExtraTreesRegressor().fit(X_train,y_train)\n",
    "\n",
    "y_pred = ExtraRT.predict(X_train)"
   ]
  },
  {
   "cell_type": "code",
   "execution_count": 666,
   "id": "fda13617",
   "metadata": {},
   "outputs": [
    {
     "name": "stdout",
     "output_type": "stream",
     "text": [
      "MSE of  ExtraTreesRegressor = 3.9571964653246306e-30\n",
      "MAE of  ExtraTreesRegressor = 1.4225204536608723e-15\n",
      "R2 score of  ExtraTreesRegressor = 1.0\n"
     ]
    }
   ],
   "source": [
    "print ('MSE of  ExtraTreesRegressor =',mse(y_pred, y_train))\n",
    "print ('MAE of  ExtraTreesRegressor =',mae(y_pred, y_train))\n",
    "print ('R2 score of  ExtraTreesRegressor =',r2_score(y_pred, y_train))"
   ]
  },
  {
   "cell_type": "code",
   "execution_count": 667,
   "id": "3b940c92",
   "metadata": {},
   "outputs": [
    {
     "name": "stdout",
     "output_type": "stream",
     "text": [
      "{'bootstrap': False, 'ccp_alpha': 0.0, 'criterion': 'squared_error', 'max_depth': None, 'max_features': 'auto', 'max_leaf_nodes': None, 'max_samples': None, 'min_impurity_decrease': 0.0, 'min_samples_leaf': 1, 'min_samples_split': 2, 'min_weight_fraction_leaf': 0.0, 'n_estimators': 100, 'n_jobs': None, 'oob_score': False, 'random_state': None, 'verbose': 0, 'warm_start': False}\n"
     ]
    }
   ],
   "source": [
    "print(ExtraRT.get_params())"
   ]
  },
  {
   "cell_type": "code",
   "execution_count": 672,
   "id": "af935f82",
   "metadata": {},
   "outputs": [
    {
     "ename": "SyntaxError",
     "evalue": "positional argument follows keyword argument (1049062478.py, line 1)",
     "output_type": "error",
     "traceback": [
      "\u001b[1;36m  Input \u001b[1;32mIn [672]\u001b[1;36m\u001b[0m\n\u001b[1;33m    ERT_cv = ExtraTreesRegressor(max_depth =(12,45),max_features = ('sqrt','log2'),min_samples_leaf = (78,56),n_estimators(45,489))\u001b[0m\n\u001b[1;37m                                                                                                                                  ^\u001b[0m\n\u001b[1;31mSyntaxError\u001b[0m\u001b[1;31m:\u001b[0m positional argument follows keyword argument\n"
     ]
    }
   ],
   "source": [
    "ERT_cv = ExtraTreesRegressor(max_depth =(12,45),max_features = ('sqrt','log2'),min_samples_leaf = (78,56),n_estimators(45,489))\n",
    "ERT_cv.fit(X_train, y_train)\n",
    "\n",
    "y_pred = ExtraRT.predict(X_train)"
   ]
  },
  {
   "cell_type": "code",
   "execution_count": null,
   "id": "e5aa5843",
   "metadata": {},
   "outputs": [],
   "source": [
    "print ('MSE of  ExtraTreesRegressor =',mse(y_pred, y_train))\n",
    "print ('MAE of  ExtraTreesRegressor =',mae(y_pred, y_train))\n",
    "print ('R2 score of  ExtraTreesRegressor =',r2_score(y_pred, y_train))"
   ]
  },
  {
   "cell_type": "code",
   "execution_count": null,
   "id": "2bb222cf",
   "metadata": {},
   "outputs": [],
   "source": [
    "plt.scatter(y_train,y_pred)"
   ]
  },
  {
   "cell_type": "markdown",
   "id": "1ca81c1e",
   "metadata": {},
   "source": [
    "### Neural Network"
   ]
  },
  {
   "cell_type": "code",
   "execution_count": 621,
   "id": "9babc459",
   "metadata": {},
   "outputs": [],
   "source": [
    "from sklearn.neural_network import MLPRegressor\n",
    "\n",
    "NN_reg = MLPRegressor()\n",
    "\n",
    "NN_reg.fit(X_train, y_train)\n",
    "\n",
    "y_pred = NN_reg.predict(X_train)"
   ]
  },
  {
   "cell_type": "code",
   "execution_count": 622,
   "id": "0deee316",
   "metadata": {},
   "outputs": [
    {
     "name": "stdout",
     "output_type": "stream",
     "text": [
      "MSE of NN Regression = 0.1092221941423014\n",
      "MAE of NN Regression = 0.2928265081778925\n",
      "R2 score of NN Regression = 0.7723550496079865\n"
     ]
    }
   ],
   "source": [
    "print ('MSE of NN Regression =',mse(y_pred, y_train))\n",
    "print ('MAE of NN Regression =',mae(y_pred, y_train))\n",
    "print ('R2 score of NN Regression =',r2_score(y_pred, y_train))"
   ]
  },
  {
   "cell_type": "code",
   "execution_count": 623,
   "id": "a33790c6",
   "metadata": {},
   "outputs": [
    {
     "name": "stdout",
     "output_type": "stream",
     "text": [
      "{'activation': 'relu', 'alpha': 0.0001, 'batch_size': 'auto', 'beta_1': 0.9, 'beta_2': 0.999, 'early_stopping': False, 'epsilon': 1e-08, 'hidden_layer_sizes': (100,), 'learning_rate': 'constant', 'learning_rate_init': 0.001, 'max_fun': 15000, 'max_iter': 200, 'momentum': 0.9, 'n_iter_no_change': 10, 'nesterovs_momentum': True, 'power_t': 0.5, 'random_state': None, 'shuffle': True, 'solver': 'adam', 'tol': 0.0001, 'validation_fraction': 0.1, 'verbose': False, 'warm_start': False}\n"
     ]
    }
   ],
   "source": [
    "print(NN_reg.get_params())"
   ]
  },
  {
   "cell_type": "code",
   "execution_count": 624,
   "id": "4dddac97",
   "metadata": {},
   "outputs": [],
   "source": [
    "NN_cv = MLPRegressor(alpha = 0,hidden_layer_sizes =  (67,89),solver = 'adam',shuffle = True,tol = 0,nesterovs_momentum = False ,power_t=0,early_stopping = True, warm_start = True)"
   ]
  },
  {
   "cell_type": "code",
   "execution_count": 625,
   "id": "31126163",
   "metadata": {},
   "outputs": [],
   "source": [
    "NN_cv.fit(X_train, y_train)\n",
    "\n",
    "y_pred = NN_cv.predict(X_train)"
   ]
  },
  {
   "cell_type": "code",
   "execution_count": 626,
   "id": "4853248c",
   "metadata": {},
   "outputs": [
    {
     "name": "stdout",
     "output_type": "stream",
     "text": [
      "MSE of NN Regression = 0.056386213740952366\n",
      "MAE of NN Regression = 0.20551390538933723\n",
      "R2 score of NN Regression = 0.8577144868664656\n"
     ]
    }
   ],
   "source": [
    "print ('MSE of NN Regression =',mse(y_pred, y_train))\n",
    "print ('MAE of NN Regression =',mae(y_pred, y_train))\n",
    "print ('R2 score of NN Regression =',r2_score(y_pred, y_train))"
   ]
  },
  {
   "cell_type": "code",
   "execution_count": 627,
   "id": "1a5d2b0b",
   "metadata": {},
   "outputs": [
    {
     "data": {
      "text/plain": [
       "<matplotlib.collections.PathCollection at 0x2996966d370>"
      ]
     },
     "execution_count": 627,
     "metadata": {},
     "output_type": "execute_result"
    },
    {
     "data": {
      "image/png": "[encoded data removed]",
      "text/plain": [
       "<Figure size 432x288 with 1 Axes>"
      ]
     },
     "metadata": {
      "needs_background": "light"
     },
     "output_type": "display_data"
    }
   ],
   "source": [
    "plt.scatter(y_train,y_pred)"
   ]
  },
  {
   "cell_type": "code",
   "execution_count": null,
   "id": "e1922f16",
   "metadata": {},
   "outputs": [],
   "source": []
  }
 ],
 "metadata": {
  "kernelspec": {
   "display_name": "Python 3 (ipykernel)",
   "language": "python",
   "name": "python3"
  },
  "language_info": {
   "codemirror_mode": {
    "name": "ipython",
    "version": 3
   },
   "file_extension": ".py",
   "mimetype": "text/x-python",
   "name": "python",
   "nbconvert_exporter": "python",
   "pygments_lexer": "ipython3",
   "version": "3.9.12"
  }
 },
 "nbformat": 4,
 "nbformat_minor": 5
}
